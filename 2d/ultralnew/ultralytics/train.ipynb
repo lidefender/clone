{
 "cells": [
  {
   "metadata": {},
   "cell_type": "code",
   "outputs": [],
   "execution_count": null,
   "source": "",
   "id": "fc072c93eef22dc7"
  },
  {
   "metadata": {
    "ExecuteTime": {
     "end_time": "2024-07-03T04:58:18.094872Z",
     "start_time": "2024-07-03T04:58:09.627812Z"
    }
   },
   "cell_type": "code",
   "source": "!yolo train model=F:\\work\\python\\clone\\2d\\ultralnew\\ultralytics\\yolov8x-seg.pt data=F:\\work\\python\\clone\\2d\\ultralnew\\ultralytics\\dataset\\rebar2d.yaml epochs=3 imgsz=1080",
   "id": "216fc670415098fd",
   "outputs": [
    {
     "name": "stdout",
     "output_type": "stream",
     "text": [
      "^C\n"
     ]
    }
   ],
   "execution_count": 2
  },
  {
   "metadata": {},
   "cell_type": "code",
   "outputs": [],
   "execution_count": null,
   "source": "",
   "id": "d700e12b5e1fbfa1"
  }
 ],
 "metadata": {
  "kernelspec": {
   "display_name": "Python 3",
   "language": "python",
   "name": "python3"
  },
  "language_info": {
   "codemirror_mode": {
    "name": "ipython",
    "version": 2
   },
   "file_extension": ".py",
   "mimetype": "text/x-python",
   "name": "python",
   "nbconvert_exporter": "python",
   "pygments_lexer": "ipython2",
   "version": "2.7.6"
  }
 },
 "nbformat": 4,
 "nbformat_minor": 5
}
