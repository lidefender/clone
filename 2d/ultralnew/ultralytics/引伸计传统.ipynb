{
 "cells": [
  {
   "cell_type": "code",
   "id": "7e6da8cf449fbb31",
   "metadata": {
    "ExecuteTime": {
     "end_time": "2024-07-03T11:57:25.331417Z",
     "start_time": "2024-07-03T11:57:23.893779Z"
    }
   },
   "source": [
    "import cv2\n",
    "import numpy as np\n",
    "\n",
    "# 读取视频\n",
    "cap = cv2.VideoCapture(r'F:\\work\\python\\clone\\2d\\ultralnew\\ultralytics\\dataset\\v1.mp4')\n",
    "\n",
    "# Shi-Tomasi角点检测参数\n",
    "feature_params = dict(maxCorners=100, qualityLevel=0.3, minDistance=7, blockSize=7)\n",
    "\n",
    "# Lucas-Kanade光流法参数\n",
    "lk_params = dict(winSize=(15, 15), maxLevel=2, criteria=(cv2.TERM_CRITERIA_EPS | cv2.TERM_CRITERIA_COUNT, 10, 0.03))\n",
    "\n",
    "# 随机颜色用于绘制\n",
    "color = np.random.randint(0, 255, (100, 3))\n",
    "\n",
    "# 读取第一帧\n",
    "ret, old_frame = cap.read()\n",
    "old_gray = cv2.cvtColor(old_frame, cv2.COLOR_BGR2GRAY)\n",
    "p0 = cv2.goodFeaturesToTrack(old_gray, mask=None, **feature_params)\n",
    "\n",
    "# 创建掩膜图像用于绘制\n",
    "mask = np.zeros_like(old_frame)\n",
    "\n",
    "while cap.isOpened():\n",
    "    ret, frame = cap.read()\n",
    "    if not ret:\n",
    "        break\n",
    "\n",
    "    frame_gray = cv2.cvtColor(frame, cv2.COLOR_BGR2GRAY)\n",
    "\n",
    "    # 计算光流\n",
    "    p1, st, err = cv2.calcOpticalFlowPyrLK(old_gray, frame_gray, p0, None, **lk_params)\n",
    "\n",
    "    # 选择好的跟踪点\n",
    "    good_new = p1[st == 1]\n",
    "    good_old = p0[st == 1]\n",
    "\n",
    "    # 绘制跟踪结果\n",
    "    for i, (new, old) in enumerate(zip(good_new, good_old)):\n",
    "        a, b = new.ravel()\n",
    "        c, d = old.ravel()\n",
    "        mask = cv2.line(mask, (a, b), (c, d), color[i].tolist(), 2)\n",
    "        frame = cv2.circle(frame, (a, b), 5, color[i].tolist(), -1)\n",
    "    \n",
    "    img = cv2.add(frame, mask)\n",
    "\n",
    "    cv2.imshow('frame', img)\n",
    "\n",
    "    if cv2.waitKey(30) & 0xFF == ord('q'):\n",
    "        break\n",
    "\n",
    "    # 更新旧帧和旧点\n",
    "    old_gray = frame_gray.copy()\n",
    "    p0 = good_new.reshape(-1, 1, 2)\n",
    "\n",
    "cap.release()\n",
    "cv2.destroyAllWindows()\n"
   ],
   "outputs": [
    {
     "ename": "error",
     "evalue": "OpenCV(4.10.0) :-1: error: (-5:Bad argument) in function 'line'\n> Overload resolution failed:\n>  - Can't parse 'pt1'. Sequence item with index 0 has a wrong type\n>  - Can't parse 'pt1'. Sequence item with index 0 has a wrong type\n",
     "output_type": "error",
     "traceback": [
      "\u001B[1;31m---------------------------------------------------------------------------\u001B[0m",
      "\u001B[1;31merror\u001B[0m                                     Traceback (most recent call last)",
      "Cell \u001B[1;32mIn[1], line 42\u001B[0m\n\u001B[0;32m     40\u001B[0m     a, b \u001B[38;5;241m=\u001B[39m new\u001B[38;5;241m.\u001B[39mravel()\n\u001B[0;32m     41\u001B[0m     c, d \u001B[38;5;241m=\u001B[39m old\u001B[38;5;241m.\u001B[39mravel()\n\u001B[1;32m---> 42\u001B[0m     mask \u001B[38;5;241m=\u001B[39m cv2\u001B[38;5;241m.\u001B[39mline(mask, (a, b), (c, d), color[i]\u001B[38;5;241m.\u001B[39mtolist(), \u001B[38;5;241m2\u001B[39m)\n\u001B[0;32m     43\u001B[0m     frame \u001B[38;5;241m=\u001B[39m cv2\u001B[38;5;241m.\u001B[39mcircle(frame, (a, b), \u001B[38;5;241m5\u001B[39m, color[i]\u001B[38;5;241m.\u001B[39mtolist(), \u001B[38;5;241m-\u001B[39m\u001B[38;5;241m1\u001B[39m)\n\u001B[0;32m     45\u001B[0m img \u001B[38;5;241m=\u001B[39m cv2\u001B[38;5;241m.\u001B[39madd(frame, mask)\n",
      "\u001B[1;31merror\u001B[0m: OpenCV(4.10.0) :-1: error: (-5:Bad argument) in function 'line'\n> Overload resolution failed:\n>  - Can't parse 'pt1'. Sequence item with index 0 has a wrong type\n>  - Can't parse 'pt1'. Sequence item with index 0 has a wrong type\n"
     ]
    }
   ],
   "execution_count": 1
  }
 ],
 "metadata": {
  "kernelspec": {
   "display_name": "Python 3",
   "language": "python",
   "name": "python3"
  },
  "language_info": {
   "codemirror_mode": {
    "name": "ipython",
    "version": 3
   },
   "file_extension": ".py",
   "mimetype": "text/x-python",
   "name": "python",
   "nbconvert_exporter": "python",
   "pygments_lexer": "ipython3",
   "version": "3.12.2"
  }
 },
 "nbformat": 4,
 "nbformat_minor": 5
}
