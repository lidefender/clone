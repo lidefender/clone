{
 "cells": [
  {
   "metadata": {
    "ExecuteTime": {
     "end_time": "2024-07-03T14:56:22.917632Z",
     "start_time": "2024-07-03T14:55:54.172169Z"
    }
   },
   "cell_type": "code",
   "source": [
    "from ultralytics.data.annotator import auto_annotate\n",
    "\n",
    "auto_annotate(data=r\"D:\\work\\python\\clone\\2d\\ultralnew\\ultralytics\\dataset\\32mm coupler steel bar tensile strength testing.mp4\", det_model=r\"D:\\work\\python\\clone\\2d\\ultralnew\\ultralytics\\last.pt\", sam_model=r'D:\\work\\python\\clone\\utils\\mask\\sam_b.pt')"
   ],
   "id": "fc072c93eef22dc7",
   "outputs": [
    {
     "ename": "RuntimeError",
     "evalue": "PytorchStreamReader failed reading zip archive: failed finding central directory",
     "output_type": "error",
     "traceback": [
      "\u001B[1;31m---------------------------------------------------------------------------\u001B[0m",
      "\u001B[1;31mRuntimeError\u001B[0m                              Traceback (most recent call last)",
      "Cell \u001B[1;32mIn[1], line 3\u001B[0m\n\u001B[0;32m      1\u001B[0m \u001B[38;5;28;01mfrom\u001B[39;00m \u001B[38;5;21;01multralytics\u001B[39;00m\u001B[38;5;21;01m.\u001B[39;00m\u001B[38;5;21;01mdata\u001B[39;00m\u001B[38;5;21;01m.\u001B[39;00m\u001B[38;5;21;01mannotator\u001B[39;00m \u001B[38;5;28;01mimport\u001B[39;00m auto_annotate\n\u001B[1;32m----> 3\u001B[0m \u001B[43mauto_annotate\u001B[49m\u001B[43m(\u001B[49m\u001B[43mdata\u001B[49m\u001B[38;5;241;43m=\u001B[39;49m\u001B[38;5;124;43mr\u001B[39;49m\u001B[38;5;124;43m\"\u001B[39;49m\u001B[38;5;124;43mD:\u001B[39;49m\u001B[38;5;124;43m\\\u001B[39;49m\u001B[38;5;124;43mwork\u001B[39;49m\u001B[38;5;124;43m\\\u001B[39;49m\u001B[38;5;124;43mpython\u001B[39;49m\u001B[38;5;124;43m\\\u001B[39;49m\u001B[38;5;124;43mclone\u001B[39;49m\u001B[38;5;124;43m\\\u001B[39;49m\u001B[38;5;124;43m2d\u001B[39;49m\u001B[38;5;124;43m\\\u001B[39;49m\u001B[38;5;124;43multralnew\u001B[39;49m\u001B[38;5;124;43m\\\u001B[39;49m\u001B[38;5;124;43multralytics\u001B[39;49m\u001B[38;5;124;43m\\\u001B[39;49m\u001B[38;5;124;43mdataset\u001B[39;49m\u001B[38;5;124;43m\\\u001B[39;49m\u001B[38;5;124;43m32mm coupler steel bar tensile strength testing.mp4\u001B[39;49m\u001B[38;5;124;43m\"\u001B[39;49m\u001B[43m,\u001B[49m\u001B[43m \u001B[49m\u001B[43mdet_model\u001B[49m\u001B[38;5;241;43m=\u001B[39;49m\u001B[38;5;124;43mr\u001B[39;49m\u001B[38;5;124;43m\"\u001B[39;49m\u001B[38;5;124;43mD:\u001B[39;49m\u001B[38;5;124;43m\\\u001B[39;49m\u001B[38;5;124;43mwork\u001B[39;49m\u001B[38;5;124;43m\\\u001B[39;49m\u001B[38;5;124;43mpython\u001B[39;49m\u001B[38;5;124;43m\\\u001B[39;49m\u001B[38;5;124;43mclone\u001B[39;49m\u001B[38;5;124;43m\\\u001B[39;49m\u001B[38;5;124;43m2d\u001B[39;49m\u001B[38;5;124;43m\\\u001B[39;49m\u001B[38;5;124;43multralnew\u001B[39;49m\u001B[38;5;124;43m\\\u001B[39;49m\u001B[38;5;124;43multralytics\u001B[39;49m\u001B[38;5;124;43m\\\u001B[39;49m\u001B[38;5;124;43mlast.pt\u001B[39;49m\u001B[38;5;124;43m\"\u001B[39;49m\u001B[43m,\u001B[49m\u001B[43m \u001B[49m\u001B[43msam_model\u001B[49m\u001B[38;5;241;43m=\u001B[39;49m\u001B[38;5;124;43mr\u001B[39;49m\u001B[38;5;124;43m'\u001B[39;49m\u001B[38;5;124;43mD:\u001B[39;49m\u001B[38;5;124;43m\\\u001B[39;49m\u001B[38;5;124;43mwork\u001B[39;49m\u001B[38;5;124;43m\\\u001B[39;49m\u001B[38;5;124;43mpython\u001B[39;49m\u001B[38;5;124;43m\\\u001B[39;49m\u001B[38;5;124;43mclone\u001B[39;49m\u001B[38;5;124;43m\\\u001B[39;49m\u001B[38;5;124;43mutils\u001B[39;49m\u001B[38;5;124;43m\\\u001B[39;49m\u001B[38;5;124;43mmask\u001B[39;49m\u001B[38;5;124;43m\\\u001B[39;49m\u001B[38;5;124;43msam_b.pt\u001B[39;49m\u001B[38;5;124;43m'\u001B[39;49m\u001B[43m)\u001B[49m\n",
      "File \u001B[1;32mD:\\work\\environment\\envs\\bar\\lib\\site-packages\\ultralytics\\data\\annotator.py:28\u001B[0m, in \u001B[0;36mauto_annotate\u001B[1;34m(data, det_model, sam_model, device, output_dir)\u001B[0m\n\u001B[0;32m      9\u001B[0m \u001B[38;5;250m\u001B[39m\u001B[38;5;124;03m\"\"\"\u001B[39;00m\n\u001B[0;32m     10\u001B[0m \u001B[38;5;124;03mAutomatically annotates images using a YOLO object detection model and a SAM segmentation model.\u001B[39;00m\n\u001B[0;32m     11\u001B[0m \n\u001B[1;32m   (...)\u001B[0m\n\u001B[0;32m     25\u001B[0m \u001B[38;5;124;03m    ```\u001B[39;00m\n\u001B[0;32m     26\u001B[0m \u001B[38;5;124;03m\"\"\"\u001B[39;00m\n\u001B[0;32m     27\u001B[0m det_model \u001B[38;5;241m=\u001B[39m YOLO(det_model)\n\u001B[1;32m---> 28\u001B[0m sam_model \u001B[38;5;241m=\u001B[39m \u001B[43mSAM\u001B[49m\u001B[43m(\u001B[49m\u001B[43msam_model\u001B[49m\u001B[43m)\u001B[49m\n\u001B[0;32m     30\u001B[0m data \u001B[38;5;241m=\u001B[39m Path(data)\n\u001B[0;32m     31\u001B[0m \u001B[38;5;28;01mif\u001B[39;00m \u001B[38;5;129;01mnot\u001B[39;00m output_dir:\n",
      "File \u001B[1;32mD:\\work\\environment\\envs\\bar\\lib\\site-packages\\ultralytics\\models\\sam\\model.py:47\u001B[0m, in \u001B[0;36mSAM.__init__\u001B[1;34m(self, model)\u001B[0m\n\u001B[0;32m     45\u001B[0m \u001B[38;5;28;01mif\u001B[39;00m model \u001B[38;5;129;01mand\u001B[39;00m Path(model)\u001B[38;5;241m.\u001B[39msuffix \u001B[38;5;129;01mnot\u001B[39;00m \u001B[38;5;129;01min\u001B[39;00m {\u001B[38;5;124m\"\u001B[39m\u001B[38;5;124m.pt\u001B[39m\u001B[38;5;124m\"\u001B[39m, \u001B[38;5;124m\"\u001B[39m\u001B[38;5;124m.pth\u001B[39m\u001B[38;5;124m\"\u001B[39m}:\n\u001B[0;32m     46\u001B[0m     \u001B[38;5;28;01mraise\u001B[39;00m \u001B[38;5;167;01mNotImplementedError\u001B[39;00m(\u001B[38;5;124m\"\u001B[39m\u001B[38;5;124mSAM prediction requires pre-trained *.pt or *.pth model.\u001B[39m\u001B[38;5;124m\"\u001B[39m)\n\u001B[1;32m---> 47\u001B[0m \u001B[38;5;28;43msuper\u001B[39;49m\u001B[43m(\u001B[49m\u001B[43m)\u001B[49m\u001B[38;5;241;43m.\u001B[39;49m\u001B[38;5;21;43m__init__\u001B[39;49m\u001B[43m(\u001B[49m\u001B[43mmodel\u001B[49m\u001B[38;5;241;43m=\u001B[39;49m\u001B[43mmodel\u001B[49m\u001B[43m,\u001B[49m\u001B[43m \u001B[49m\u001B[43mtask\u001B[49m\u001B[38;5;241;43m=\u001B[39;49m\u001B[38;5;124;43m\"\u001B[39;49m\u001B[38;5;124;43msegment\u001B[39;49m\u001B[38;5;124;43m\"\u001B[39;49m\u001B[43m)\u001B[49m\n",
      "File \u001B[1;32mD:\\work\\environment\\envs\\bar\\lib\\site-packages\\ultralytics\\engine\\model.py:152\u001B[0m, in \u001B[0;36mModel.__init__\u001B[1;34m(self, model, task, verbose)\u001B[0m\n\u001B[0;32m    150\u001B[0m     \u001B[38;5;28mself\u001B[39m\u001B[38;5;241m.\u001B[39m_new(model, task\u001B[38;5;241m=\u001B[39mtask, verbose\u001B[38;5;241m=\u001B[39mverbose)\n\u001B[0;32m    151\u001B[0m \u001B[38;5;28;01melse\u001B[39;00m:\n\u001B[1;32m--> 152\u001B[0m     \u001B[38;5;28;43mself\u001B[39;49m\u001B[38;5;241;43m.\u001B[39;49m\u001B[43m_load\u001B[49m\u001B[43m(\u001B[49m\u001B[43mmodel\u001B[49m\u001B[43m,\u001B[49m\u001B[43m \u001B[49m\u001B[43mtask\u001B[49m\u001B[38;5;241;43m=\u001B[39;49m\u001B[43mtask\u001B[49m\u001B[43m)\u001B[49m\n",
      "File \u001B[1;32mD:\\work\\environment\\envs\\bar\\lib\\site-packages\\ultralytics\\models\\sam\\model.py:57\u001B[0m, in \u001B[0;36mSAM._load\u001B[1;34m(self, weights, task)\u001B[0m\n\u001B[0;32m     49\u001B[0m \u001B[38;5;28;01mdef\u001B[39;00m \u001B[38;5;21m_load\u001B[39m(\u001B[38;5;28mself\u001B[39m, weights: \u001B[38;5;28mstr\u001B[39m, task\u001B[38;5;241m=\u001B[39m\u001B[38;5;28;01mNone\u001B[39;00m):\n\u001B[0;32m     50\u001B[0m \u001B[38;5;250m    \u001B[39m\u001B[38;5;124;03m\"\"\"\u001B[39;00m\n\u001B[0;32m     51\u001B[0m \u001B[38;5;124;03m    Loads the specified weights into the SAM model.\u001B[39;00m\n\u001B[0;32m     52\u001B[0m \n\u001B[1;32m   (...)\u001B[0m\n\u001B[0;32m     55\u001B[0m \u001B[38;5;124;03m        task (str, optional): Task name. Defaults to None.\u001B[39;00m\n\u001B[0;32m     56\u001B[0m \u001B[38;5;124;03m    \"\"\"\u001B[39;00m\n\u001B[1;32m---> 57\u001B[0m     \u001B[38;5;28mself\u001B[39m\u001B[38;5;241m.\u001B[39mmodel \u001B[38;5;241m=\u001B[39m \u001B[43mbuild_sam\u001B[49m\u001B[43m(\u001B[49m\u001B[43mweights\u001B[49m\u001B[43m)\u001B[49m\n",
      "File \u001B[1;32mD:\\work\\environment\\envs\\bar\\lib\\site-packages\\ultralytics\\models\\sam\\build.py:161\u001B[0m, in \u001B[0;36mbuild_sam\u001B[1;34m(ckpt)\u001B[0m\n\u001B[0;32m    158\u001B[0m \u001B[38;5;28;01mif\u001B[39;00m \u001B[38;5;129;01mnot\u001B[39;00m model_builder:\n\u001B[0;32m    159\u001B[0m     \u001B[38;5;28;01mraise\u001B[39;00m \u001B[38;5;167;01mFileNotFoundError\u001B[39;00m(\u001B[38;5;124mf\u001B[39m\u001B[38;5;124m\"\u001B[39m\u001B[38;5;132;01m{\u001B[39;00mckpt\u001B[38;5;132;01m}\u001B[39;00m\u001B[38;5;124m is not a supported SAM model. Available models are: \u001B[39m\u001B[38;5;130;01m\\n\u001B[39;00m\u001B[38;5;124m \u001B[39m\u001B[38;5;132;01m{\u001B[39;00msam_model_map\u001B[38;5;241m.\u001B[39mkeys()\u001B[38;5;132;01m}\u001B[39;00m\u001B[38;5;124m\"\u001B[39m)\n\u001B[1;32m--> 161\u001B[0m \u001B[38;5;28;01mreturn\u001B[39;00m \u001B[43mmodel_builder\u001B[49m\u001B[43m(\u001B[49m\u001B[43mckpt\u001B[49m\u001B[43m)\u001B[49m\n",
      "File \u001B[1;32mD:\\work\\environment\\envs\\bar\\lib\\site-packages\\ultralytics\\models\\sam\\build.py:46\u001B[0m, in \u001B[0;36mbuild_sam_vit_b\u001B[1;34m(checkpoint)\u001B[0m\n\u001B[0;32m     44\u001B[0m \u001B[38;5;28;01mdef\u001B[39;00m \u001B[38;5;21mbuild_sam_vit_b\u001B[39m(checkpoint\u001B[38;5;241m=\u001B[39m\u001B[38;5;28;01mNone\u001B[39;00m):\n\u001B[0;32m     45\u001B[0m \u001B[38;5;250m    \u001B[39m\u001B[38;5;124;03m\"\"\"Build and return a Segment Anything Model (SAM) b-size model.\"\"\"\u001B[39;00m\n\u001B[1;32m---> 46\u001B[0m     \u001B[38;5;28;01mreturn\u001B[39;00m \u001B[43m_build_sam\u001B[49m\u001B[43m(\u001B[49m\n\u001B[0;32m     47\u001B[0m \u001B[43m        \u001B[49m\u001B[43mencoder_embed_dim\u001B[49m\u001B[38;5;241;43m=\u001B[39;49m\u001B[38;5;241;43m768\u001B[39;49m\u001B[43m,\u001B[49m\n\u001B[0;32m     48\u001B[0m \u001B[43m        \u001B[49m\u001B[43mencoder_depth\u001B[49m\u001B[38;5;241;43m=\u001B[39;49m\u001B[38;5;241;43m12\u001B[39;49m\u001B[43m,\u001B[49m\n\u001B[0;32m     49\u001B[0m \u001B[43m        \u001B[49m\u001B[43mencoder_num_heads\u001B[49m\u001B[38;5;241;43m=\u001B[39;49m\u001B[38;5;241;43m12\u001B[39;49m\u001B[43m,\u001B[49m\n\u001B[0;32m     50\u001B[0m \u001B[43m        \u001B[49m\u001B[43mencoder_global_attn_indexes\u001B[49m\u001B[38;5;241;43m=\u001B[39;49m\u001B[43m[\u001B[49m\u001B[38;5;241;43m2\u001B[39;49m\u001B[43m,\u001B[49m\u001B[43m \u001B[49m\u001B[38;5;241;43m5\u001B[39;49m\u001B[43m,\u001B[49m\u001B[43m \u001B[49m\u001B[38;5;241;43m8\u001B[39;49m\u001B[43m,\u001B[49m\u001B[43m \u001B[49m\u001B[38;5;241;43m11\u001B[39;49m\u001B[43m]\u001B[49m\u001B[43m,\u001B[49m\n\u001B[0;32m     51\u001B[0m \u001B[43m        \u001B[49m\u001B[43mcheckpoint\u001B[49m\u001B[38;5;241;43m=\u001B[39;49m\u001B[43mcheckpoint\u001B[49m\u001B[43m,\u001B[49m\n\u001B[0;32m     52\u001B[0m \u001B[43m    \u001B[49m\u001B[43m)\u001B[49m\n",
      "File \u001B[1;32mD:\\work\\environment\\envs\\bar\\lib\\site-packages\\ultralytics\\models\\sam\\build.py:134\u001B[0m, in \u001B[0;36m_build_sam\u001B[1;34m(encoder_embed_dim, encoder_depth, encoder_num_heads, encoder_global_attn_indexes, checkpoint, mobile_sam)\u001B[0m\n\u001B[0;32m    132\u001B[0m     checkpoint \u001B[38;5;241m=\u001B[39m attempt_download_asset(checkpoint)\n\u001B[0;32m    133\u001B[0m     \u001B[38;5;28;01mwith\u001B[39;00m \u001B[38;5;28mopen\u001B[39m(checkpoint, \u001B[38;5;124m\"\u001B[39m\u001B[38;5;124mrb\u001B[39m\u001B[38;5;124m\"\u001B[39m) \u001B[38;5;28;01mas\u001B[39;00m f:\n\u001B[1;32m--> 134\u001B[0m         state_dict \u001B[38;5;241m=\u001B[39m \u001B[43mtorch\u001B[49m\u001B[38;5;241;43m.\u001B[39;49m\u001B[43mload\u001B[49m\u001B[43m(\u001B[49m\u001B[43mf\u001B[49m\u001B[43m)\u001B[49m\n\u001B[0;32m    135\u001B[0m     sam\u001B[38;5;241m.\u001B[39mload_state_dict(state_dict)\n\u001B[0;32m    136\u001B[0m sam\u001B[38;5;241m.\u001B[39meval()\n",
      "File \u001B[1;32mD:\\work\\environment\\envs\\bar\\lib\\site-packages\\torch\\serialization.py:1004\u001B[0m, in \u001B[0;36mload\u001B[1;34m(f, map_location, pickle_module, weights_only, mmap, **pickle_load_args)\u001B[0m\n\u001B[0;32m   1002\u001B[0m orig_position \u001B[38;5;241m=\u001B[39m opened_file\u001B[38;5;241m.\u001B[39mtell()\n\u001B[0;32m   1003\u001B[0m overall_storage \u001B[38;5;241m=\u001B[39m \u001B[38;5;28;01mNone\u001B[39;00m\n\u001B[1;32m-> 1004\u001B[0m \u001B[38;5;28;01mwith\u001B[39;00m \u001B[43m_open_zipfile_reader\u001B[49m\u001B[43m(\u001B[49m\u001B[43mopened_file\u001B[49m\u001B[43m)\u001B[49m \u001B[38;5;28;01mas\u001B[39;00m opened_zipfile:\n\u001B[0;32m   1005\u001B[0m     \u001B[38;5;28;01mif\u001B[39;00m _is_torchscript_zip(opened_zipfile):\n\u001B[0;32m   1006\u001B[0m         warnings\u001B[38;5;241m.\u001B[39mwarn(\u001B[38;5;124m\"\u001B[39m\u001B[38;5;124m'\u001B[39m\u001B[38;5;124mtorch.load\u001B[39m\u001B[38;5;124m'\u001B[39m\u001B[38;5;124m received a zip file that looks like a TorchScript archive\u001B[39m\u001B[38;5;124m\"\u001B[39m\n\u001B[0;32m   1007\u001B[0m                       \u001B[38;5;124m\"\u001B[39m\u001B[38;5;124m dispatching to \u001B[39m\u001B[38;5;124m'\u001B[39m\u001B[38;5;124mtorch.jit.load\u001B[39m\u001B[38;5;124m'\u001B[39m\u001B[38;5;124m (call \u001B[39m\u001B[38;5;124m'\u001B[39m\u001B[38;5;124mtorch.jit.load\u001B[39m\u001B[38;5;124m'\u001B[39m\u001B[38;5;124m directly to\u001B[39m\u001B[38;5;124m\"\u001B[39m\n\u001B[0;32m   1008\u001B[0m                       \u001B[38;5;124m\"\u001B[39m\u001B[38;5;124m silence this warning)\u001B[39m\u001B[38;5;124m\"\u001B[39m, \u001B[38;5;167;01mUserWarning\u001B[39;00m)\n",
      "File \u001B[1;32mD:\\work\\environment\\envs\\bar\\lib\\site-packages\\torch\\serialization.py:456\u001B[0m, in \u001B[0;36m_open_zipfile_reader.__init__\u001B[1;34m(self, name_or_buffer)\u001B[0m\n\u001B[0;32m    455\u001B[0m \u001B[38;5;28;01mdef\u001B[39;00m \u001B[38;5;21m__init__\u001B[39m(\u001B[38;5;28mself\u001B[39m, name_or_buffer) \u001B[38;5;241m-\u001B[39m\u001B[38;5;241m>\u001B[39m \u001B[38;5;28;01mNone\u001B[39;00m:\n\u001B[1;32m--> 456\u001B[0m     \u001B[38;5;28msuper\u001B[39m()\u001B[38;5;241m.\u001B[39m\u001B[38;5;21m__init__\u001B[39m(\u001B[43mtorch\u001B[49m\u001B[38;5;241;43m.\u001B[39;49m\u001B[43m_C\u001B[49m\u001B[38;5;241;43m.\u001B[39;49m\u001B[43mPyTorchFileReader\u001B[49m\u001B[43m(\u001B[49m\u001B[43mname_or_buffer\u001B[49m\u001B[43m)\u001B[49m)\n",
      "\u001B[1;31mRuntimeError\u001B[0m: PytorchStreamReader failed reading zip archive: failed finding central directory"
     ]
    }
   ],
   "execution_count": 1
  },
  {
   "metadata": {
    "ExecuteTime": {
     "end_time": "2024-07-03T04:58:18.094872Z",
     "start_time": "2024-07-03T04:58:09.627812Z"
    }
   },
   "cell_type": "code",
   "source": "!yolo train model=F:\\work\\python\\clone\\2d\\ultralnew\\ultralytics\\yolov8x-seg.pt data=F:\\work\\python\\clone\\2d\\ultralnew\\ultralytics\\dataset\\rebar2d.yaml epochs=3 imgsz=1080",
   "id": "216fc670415098fd",
   "outputs": [
    {
     "name": "stdout",
     "output_type": "stream",
     "text": [
      "^C\n"
     ]
    }
   ],
   "execution_count": 2
  },
  {
   "metadata": {},
   "cell_type": "code",
   "outputs": [],
   "execution_count": null,
   "source": "",
   "id": "d700e12b5e1fbfa1"
  }
 ],
 "metadata": {
  "kernelspec": {
   "display_name": "Python 3",
   "language": "python",
   "name": "python3"
  },
  "language_info": {
   "codemirror_mode": {
    "name": "ipython",
    "version": 2
   },
   "file_extension": ".py",
   "mimetype": "text/x-python",
   "name": "python",
   "nbconvert_exporter": "python",
   "pygments_lexer": "ipython2",
   "version": "2.7.6"
  }
 },
 "nbformat": 4,
 "nbformat_minor": 5
}
