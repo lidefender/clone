{
 "nbformat": 4,
 "nbformat_minor": 0,
 "metadata": {
  "colab": {
   "name": "YOLOv8 Tutorial",
   "provenance": [],
   "toc_visible": true
  },
  "kernelspec": {
   "name": "python3",
   "display_name": "Python 3 (ipykernel)",
   "language": "python"
  },
  "accelerator": "GPU"
 },
 "cells": [
  {
   "cell_type": "markdown",
   "metadata": {
    "id": "t6MPjfT5NrKQ"
   },
   "source": [
    "<div align=\"center\">\n",
    "\n",
    "  <a href=\"https://ultralytics.com/yolov8\" target=\"_blank\">\n",
    "    <img width=\"1024\", src=\"https://raw.githubusercontent.com/ultralytics/assets/main/yolov8/banner-yolov8.png\"></a>\n",
    "\n",
    "  [中文](https://docs.ultralytics.com/zh/) | [한국어](https://docs.ultralytics.com/ko/) | [日本語](https://docs.ultralytics.com/ja/) | [Русский](https://docs.ultralytics.com/ru/) | [Deutsch](https://docs.ultralytics.com/de/) | [Français](https://docs.ultralytics.com/fr/) | [Español](https://docs.ultralytics.com/es/) | [Português](https://docs.ultralytics.com/pt/) | [Türkçe](https://docs.ultralytics.com/tr/) | [Tiếng Việt](https://docs.ultralytics.com/vi/) | [हिन्दी](https://docs.ultralytics.com/hi/) | [العربية](https://docs.ultralytics.com/ar/)\n",
    "\n",
    "  <a href=\"https://github.com/ultralytics/ultralytics/actions/workflows/ci.yaml\"><img src=\"https://github.com/ultralytics/ultralytics/actions/workflows/ci.yaml/badge.svg\" alt=\"Ultralytics CI\"></a>\n",
    "  <a href=\"https://console.paperspace.com/github/ultralytics/ultralytics\"><img src=\"https://assets.paperspace.io/img/gradient-badge.svg\" alt=\"Run on Gradient\"/></a>\n",
    "  <a href=\"https://colab.research.google.com/github/ultralytics/ultralytics/blob/main/examples/tutorial.ipynb\"><img src=\"https://colab.research.google.com/assets/colab-badge.svg\" alt=\"Open In Colab\"></a>\n",
    "  <a href=\"https://www.kaggle.com/ultralytics/yolov8\"><img src=\"https://kaggle.com/static/images/open-in-kaggle.svg\" alt=\"Open In Kaggle\"></a>\n",
    "  <a href=\"https://ultralytics.com/discord\"><img alt=\"Discord\" src=\"https://img.shields.io/discord/1089800235347353640?logo=discord&logoColor=white&label=Discord&color=blue\"></a>\n",
    "\n",
    "Welcome to the Ultralytics YOLOv8 🚀 notebook! <a href=\"https://github.com/ultralytics/ultralytics\">YOLOv8</a> is the latest version of the YOLO (You Only Look Once) AI models developed by <a href=\"https://ultralytics.com\">Ultralytics</a>. This notebook serves as the starting point for exploring the various resources available to help you get started with YOLOv8 and understand its features and capabilities.\n",
    "\n",
    "YOLOv8 models are fast, accurate, and easy to use, making them ideal for various object detection and image segmentation tasks. They can be trained on large datasets and run on diverse hardware platforms, from CPUs to GPUs.\n",
    "\n",
    "We hope that the resources in this notebook will help you get the most out of YOLOv8. Please browse the YOLOv8 <a href=\"https://docs.ultralytics.com/\">Docs</a> for details, raise an issue on <a href=\"https://github.com/ultralytics/ultralytics\">GitHub</a> for support, and join our <a href=\"https://ultralytics.com/discord\">Discord</a> community for questions and discussions!\n",
    "\n",
    "</div>"
   ]
  },
  {
   "cell_type": "markdown",
   "metadata": {
    "id": "7mGmQbAO5pQb"
   },
   "source": [
    "# Setup\n",
    "\n",
    "Pip install `ultralytics` and [dependencies](https://github.com/ultralytics/ultralytics/blob/main/pyproject.toml) and check software and hardware."
   ]
  },
  {
   "cell_type": "code",
   "metadata": {
    "id": "wbvMlHd_QwMG",
    "colab": {
     "base_uri": "https://localhost:8080/"
    },
    "outputId": "96335d4c-20a9-4864-f7a4-bb2eb0077a9d"
   },
   "source": [
    "%pip install ultralytics\n",
    "import ultralytics\n",
    "ultralytics.checks()"
   ],
   "execution_count": 1,
   "outputs": [
    {
     "name": "stdout",
     "output_type": "stream",
     "text": [
      "Ultralytics YOLOv8.2.15  Python-3.12.2 torch-2.2.1 CUDA:0 (NVIDIA GeForce RTX 4060 Laptop GPU, 8188MiB)\n",
      "Setup complete  (16 CPUs, 15.2 GB RAM, 703.3/984.1 GB disk)\n"
     ]
    }
   ]
  },
  {
   "cell_type": "markdown",
   "metadata": {
    "id": "4JnkELT0cIJg"
   },
   "source": [
    "# 1. Predict\n",
    "\n",
    "YOLOv8 may be used directly in the Command Line Interface (CLI) with a `yolo` command for a variety of tasks and modes and accepts additional arguments, i.e. `imgsz=640`. See a full list of available `yolo` [arguments](https://docs.ultralytics.com/usage/cfg/) and other details in the [YOLOv8 Predict Docs](https://docs.ultralytics.com/modes/train/).\n"
   ]
  },
  {
   "cell_type": "code",
   "metadata": {
    "id": "zR9ZbuQCH7FX",
    "colab": {
     "base_uri": "https://localhost:8080/"
    },
    "outputId": "84f32db2-80b0-4f35-9a2a-a56d11f7863f",
    "ExecuteTime": {
     "end_time": "2024-06-28T01:42:48.714355Z",
     "start_time": "2024-06-28T01:41:14.041779Z"
    }
   },
   "source": [
    "# Run inference on an image with YOLOv8n\n",
    "!yolo predict model=yolov8n.pt source='https://ultralytics.com/images/zidane.jpg'"
   ],
   "outputs": [
    {
     "name": "stdout",
     "output_type": "stream",
     "text": [
      "Downloading https://github.com/ultralytics/assets/releases/download/v8.2.0/yolov8n.pt to 'yolov8n.pt'...\n",
      "Ultralytics YOLOv8.2.15 馃殌 Python-3.12.2 torch-2.2.1 CUDA:0 (NVIDIA GeForce RTX 4060 Laptop GPU, 8188MiB)\n",
      "YOLOv8n summary (fused): 168 layers, 3151904 parameters, 0 gradients, 8.7 GFLOPs\n",
      "\n",
      "Downloading https://ultralytics.com/images/zidane.jpg to 'zidane.jpg'...\n",
      "image 1/1 F:\\work\\python\\clone\\2d\\ultralytics\\examples\\zidane.jpg: 384x640 2 persons, 1 tie, 85.7ms\n",
      "Speed: 4.9ms preprocess, 85.7ms inference, 1457.6ms postprocess per image at shape (1, 3, 384, 640)\n",
      "Results saved to \u001B[1mruns\\detect\\predict\u001B[0m\n",
      "馃挕 Learn more at https://docs.ultralytics.com/modes/predict\n"
     ]
    },
    {
     "name": "stderr",
     "output_type": "stream",
     "text": [
      "\n",
      "  0%|          | 0.00/6.23M [00:00<?, ?B/s]\n",
      "  0%|          | 24.0k/6.23M [00:00<00:39, 166kB/s]\n",
      "  1%|          | 72.0k/6.23M [00:00<00:21, 305kB/s]\n",
      "  3%|▎         | 168k/6.23M [00:00<00:11, 539kB/s] \n",
      "  6%|▋         | 408k/6.23M [00:00<00:05, 1.19MB/s]\n",
      "  8%|▊         | 536k/6.23M [00:00<00:10, 574kB/s] \n",
      " 10%|▉         | 632k/6.23M [00:01<00:21, 269kB/s]\n",
      " 11%|█         | 696k/6.23M [00:02<00:33, 172kB/s]\n",
      " 12%|█▏        | 744k/6.23M [00:03<00:34, 166kB/s]\n",
      " 12%|█▏        | 784k/6.23M [00:03<00:34, 167kB/s]\n",
      " 13%|█▎        | 816k/6.23M [00:03<00:35, 159kB/s]\n",
      " 13%|█▎        | 848k/6.23M [00:03<00:37, 150kB/s]\n",
      " 14%|█▎        | 872k/6.23M [00:04<00:39, 143kB/s]\n",
      " 14%|█▍        | 896k/6.23M [00:04<00:38, 147kB/s]\n",
      " 14%|█▍        | 920k/6.23M [00:04<00:43, 129kB/s]\n",
      " 15%|█▍        | 936k/6.23M [00:04<00:50, 110kB/s]\n",
      " 15%|█▍        | 952k/6.23M [00:04<00:48, 114kB/s]\n",
      " 15%|█▌        | 968k/6.23M [00:05<00:50, 110kB/s]\n",
      " 15%|█▌        | 984k/6.23M [00:05<00:52, 106kB/s]\n",
      " 16%|█▌        | 0.98M/6.23M [00:05<00:58, 93.7kB/s]\n",
      " 16%|█▌        | 0.99M/6.23M [00:05<00:54, 101kB/s] \n",
      " 16%|█▌        | 1.01M/6.23M [00:05<00:52, 104kB/s]\n",
      " 16%|█▋        | 1.02M/6.23M [00:05<00:55, 98.3kB/s]\n",
      " 17%|█▋        | 1.04M/6.23M [00:06<00:54, 100kB/s] \n",
      " 17%|█▋        | 1.05M/6.23M [00:06<01:04, 83.6kB/s]\n",
      " 17%|█▋        | 1.07M/6.23M [00:06<01:10, 76.5kB/s]\n",
      " 17%|█▋        | 1.09M/6.23M [00:06<01:29, 60.4kB/s]\n",
      " 18%|█▊        | 1.10M/6.23M [00:07<01:17, 69.3kB/s]\n",
      " 18%|█▊        | 1.12M/6.23M [00:07<01:17, 69.3kB/s]\n",
      " 18%|█▊        | 1.13M/6.23M [00:07<01:24, 63.5kB/s]\n",
      " 18%|█▊        | 1.15M/6.23M [00:07<01:22, 64.5kB/s]\n",
      " 19%|█▊        | 1.16M/6.23M [00:08<01:18, 68.0kB/s]\n",
      " 19%|█▉        | 1.18M/6.23M [00:08<01:18, 67.2kB/s]\n",
      " 19%|█▉        | 1.20M/6.23M [00:08<01:12, 72.9kB/s]\n",
      " 19%|█▉        | 1.21M/6.23M [00:08<01:28, 59.5kB/s]\n",
      " 20%|█▉        | 1.23M/6.23M [00:09<01:21, 64.7kB/s]\n",
      " 20%|█▉        | 1.24M/6.23M [00:09<01:11, 73.3kB/s]\n",
      " 20%|██        | 1.26M/6.23M [00:09<01:00, 86.0kB/s]\n",
      " 20%|██        | 1.27M/6.23M [00:09<00:59, 87.4kB/s]\n",
      " 21%|██        | 1.29M/6.23M [00:09<01:01, 83.9kB/s]\n",
      " 21%|██        | 1.30M/6.23M [00:10<01:04, 80.1kB/s]\n",
      " 21%|██        | 1.32M/6.23M [00:10<01:09, 74.6kB/s]\n",
      " 21%|██▏       | 1.34M/6.23M [00:10<01:06, 76.7kB/s]\n",
      " 22%|██▏       | 1.35M/6.23M [00:11<01:55, 44.4kB/s]\n",
      " 22%|██▏       | 1.37M/6.23M [00:11<02:26, 34.8kB/s]\n",
      " 22%|██▏       | 1.38M/6.23M [00:12<02:06, 40.1kB/s]\n",
      " 22%|██▏       | 1.40M/6.23M [00:12<01:45, 48.0kB/s]\n",
      " 23%|██▎       | 1.41M/6.23M [00:12<01:25, 59.2kB/s]\n",
      " 23%|██▎       | 1.43M/6.23M [00:12<01:10, 71.1kB/s]\n",
      " 23%|██▎       | 1.45M/6.23M [00:12<01:00, 82.9kB/s]\n",
      " 24%|██▎       | 1.48M/6.23M [00:13<00:53, 92.9kB/s]\n",
      " 24%|██▍       | 1.49M/6.23M [00:13<00:53, 92.3kB/s]\n",
      " 25%|██▍       | 1.54M/6.23M [00:13<00:31, 157kB/s] \n",
      " 25%|██▌       | 1.57M/6.23M [00:13<00:32, 149kB/s]\n",
      " 26%|██▌       | 1.60M/6.23M [00:13<00:29, 166kB/s]\n",
      " 26%|██▌       | 1.62M/6.23M [00:13<00:29, 162kB/s]\n",
      " 26%|██▋       | 1.65M/6.23M [00:14<00:28, 169kB/s]\n",
      " 27%|██▋       | 1.67M/6.23M [00:14<00:26, 182kB/s]\n",
      " 27%|██▋       | 1.70M/6.23M [00:14<00:38, 123kB/s]\n",
      " 27%|██▋       | 1.71M/6.23M [00:14<00:45, 104kB/s]\n",
      " 28%|██▊       | 1.73M/6.23M [00:14<00:51, 92.3kB/s]\n",
      " 28%|██▊       | 1.74M/6.23M [00:15<00:55, 85.3kB/s]\n",
      " 28%|██▊       | 1.76M/6.23M [00:15<00:55, 85.0kB/s]\n",
      " 28%|██▊       | 1.77M/6.23M [00:15<00:53, 87.8kB/s]\n",
      " 29%|██▊       | 1.79M/6.23M [00:15<00:49, 93.3kB/s]\n",
      " 29%|██▉       | 1.80M/6.23M [00:15<00:46, 99.4kB/s]\n",
      " 29%|██▉       | 1.82M/6.23M [00:15<00:42, 109kB/s] \n",
      " 29%|██▉       | 1.84M/6.23M [00:16<00:43, 106kB/s]\n",
      " 30%|██▉       | 1.85M/6.23M [00:16<00:41, 111kB/s]\n",
      " 30%|███       | 1.88M/6.23M [00:16<00:36, 123kB/s]\n",
      " 30%|███       | 1.90M/6.23M [00:16<00:35, 130kB/s]\n",
      " 31%|███       | 1.91M/6.23M [00:16<00:35, 127kB/s]\n",
      " 31%|███       | 1.93M/6.23M [00:16<00:39, 115kB/s]\n",
      " 31%|███       | 1.95M/6.23M [00:17<00:39, 115kB/s]\n",
      " 31%|███▏      | 1.96M/6.23M [00:17<01:09, 64.4kB/s]\n",
      " 32%|███▏      | 1.99M/6.23M [00:17<00:46, 95.9kB/s]\n",
      " 32%|███▏      | 2.01M/6.23M [00:18<00:51, 85.4kB/s]\n",
      " 32%|███▏      | 2.02M/6.23M [00:18<00:58, 75.1kB/s]\n",
      " 33%|███▎      | 2.04M/6.23M [00:18<00:51, 84.6kB/s]\n",
      " 33%|███▎      | 2.05M/6.23M [00:18<00:54, 80.3kB/s]\n",
      " 33%|███▎      | 2.07M/6.23M [00:18<00:47, 92.1kB/s]\n",
      " 33%|███▎      | 2.09M/6.23M [00:18<00:47, 91.9kB/s]\n",
      " 34%|███▍      | 2.12M/6.23M [00:19<00:37, 115kB/s] \n",
      " 34%|███▍      | 2.15M/6.23M [00:19<00:35, 121kB/s]\n",
      " 35%|███▍      | 2.18M/6.23M [00:19<00:31, 136kB/s]\n",
      " 35%|███▌      | 2.20M/6.23M [00:19<00:34, 124kB/s]\n",
      " 35%|███▌      | 2.21M/6.23M [00:19<00:33, 125kB/s]\n",
      " 36%|███▌      | 2.23M/6.23M [00:20<00:37, 113kB/s]\n",
      " 36%|███▌      | 2.24M/6.23M [00:20<00:42, 97.3kB/s]\n",
      " 36%|███▌      | 2.26M/6.23M [00:20<00:45, 92.3kB/s]\n",
      " 36%|███▋      | 2.27M/6.23M [00:20<00:44, 93.6kB/s]\n",
      " 37%|███▋      | 2.29M/6.23M [00:20<00:40, 102kB/s] \n",
      " 37%|███▋      | 2.30M/6.23M [00:20<00:37, 110kB/s]\n",
      " 37%|███▋      | 2.34M/6.23M [00:21<00:34, 119kB/s]\n",
      " 38%|███▊      | 2.35M/6.23M [00:21<00:32, 127kB/s]\n",
      " 38%|███▊      | 2.37M/6.23M [00:21<00:31, 130kB/s]\n",
      " 38%|███▊      | 2.40M/6.23M [00:21<00:34, 117kB/s]\n",
      " 39%|███▊      | 2.41M/6.23M [00:21<00:33, 118kB/s]\n",
      " 39%|███▉      | 2.43M/6.23M [00:21<00:34, 115kB/s]\n",
      " 39%|███▉      | 2.45M/6.23M [00:22<00:33, 118kB/s]\n",
      " 40%|███▉      | 2.48M/6.23M [00:22<00:34, 116kB/s]\n",
      " 40%|████      | 2.51M/6.23M [00:22<00:28, 139kB/s]\n",
      " 41%|████      | 2.54M/6.23M [00:22<00:25, 152kB/s]\n",
      " 41%|████      | 2.55M/6.23M [00:22<00:29, 132kB/s]\n",
      " 42%|████▏     | 2.60M/6.23M [00:23<00:19, 196kB/s]\n",
      " 42%|████▏     | 2.63M/6.23M [00:23<00:22, 169kB/s]\n",
      " 43%|████▎     | 2.66M/6.23M [00:23<00:21, 170kB/s]\n",
      " 43%|████▎     | 2.69M/6.23M [00:23<00:20, 181kB/s]\n",
      " 44%|████▎     | 2.71M/6.23M [00:23<00:25, 146kB/s]\n",
      " 44%|████▍     | 2.73M/6.23M [00:24<00:25, 146kB/s]\n",
      " 44%|████▍     | 2.75M/6.23M [00:24<00:25, 141kB/s]\n",
      " 44%|████▍     | 2.77M/6.23M [00:24<00:25, 142kB/s]\n",
      " 45%|████▍     | 2.78M/6.23M [00:24<00:24, 145kB/s]\n",
      " 45%|████▌     | 2.80M/6.23M [00:24<00:29, 124kB/s]\n",
      " 46%|████▌     | 2.84M/6.23M [00:24<00:24, 148kB/s]\n",
      " 46%|████▌     | 2.85M/6.23M [00:24<00:24, 147kB/s]\n",
      " 46%|████▌     | 2.87M/6.23M [00:25<00:30, 116kB/s]\n",
      " 46%|████▋     | 2.88M/6.23M [00:25<00:30, 115kB/s]\n",
      " 47%|████▋     | 2.90M/6.23M [00:25<00:37, 92.3kB/s]\n",
      " 47%|████▋     | 2.91M/6.23M [00:25<00:33, 105kB/s] \n",
      " 47%|████▋     | 2.93M/6.23M [00:25<00:30, 113kB/s]\n",
      " 47%|████▋     | 2.95M/6.23M [00:26<00:39, 87.5kB/s]\n",
      " 48%|████▊     | 2.96M/6.23M [00:26<00:34, 100kB/s] \n",
      " 48%|████▊     | 2.98M/6.23M [00:26<00:38, 88.5kB/s]\n",
      " 48%|████▊     | 2.99M/6.23M [00:26<00:34, 99.6kB/s]\n",
      " 48%|████▊     | 3.01M/6.23M [00:26<00:43, 78.1kB/s]\n",
      " 49%|████▊     | 3.02M/6.23M [00:26<00:38, 87.7kB/s]\n",
      " 49%|████▉     | 3.04M/6.23M [00:27<00:51, 65.0kB/s]\n",
      " 49%|████▉     | 3.07M/6.23M [00:27<00:34, 97.4kB/s]\n",
      " 50%|████▉     | 3.10M/6.23M [00:27<00:28, 115kB/s] \n",
      " 50%|█████     | 3.12M/6.23M [00:27<00:28, 113kB/s]\n",
      " 50%|█████     | 3.13M/6.23M [00:28<00:31, 103kB/s]\n",
      " 51%|█████     | 3.16M/6.23M [00:28<00:27, 119kB/s]\n",
      " 51%|█████▏    | 3.20M/6.23M [00:28<00:23, 134kB/s]\n",
      " 52%|█████▏    | 3.21M/6.23M [00:28<00:23, 133kB/s]\n",
      " 52%|█████▏    | 3.24M/6.23M [00:28<00:18, 171kB/s]\n",
      " 53%|█████▎    | 3.27M/6.23M [00:28<00:15, 196kB/s]\n",
      " 53%|█████▎    | 3.30M/6.23M [00:28<00:13, 220kB/s]\n",
      " 54%|█████▎    | 3.34M/6.23M [00:29<00:13, 221kB/s]\n",
      " 54%|█████▍    | 3.38M/6.23M [00:29<00:11, 261kB/s]\n",
      " 55%|█████▍    | 3.41M/6.23M [00:29<00:11, 253kB/s]\n",
      " 55%|█████▌    | 3.45M/6.23M [00:29<00:12, 231kB/s]\n",
      " 56%|█████▌    | 3.47M/6.23M [00:29<00:13, 218kB/s]\n",
      " 56%|█████▌    | 3.49M/6.23M [00:30<00:21, 131kB/s]\n",
      " 57%|█████▋    | 3.52M/6.23M [00:30<00:21, 135kB/s]\n",
      " 57%|█████▋    | 3.55M/6.23M [00:30<00:23, 122kB/s]\n",
      " 57%|█████▋    | 3.56M/6.23M [00:30<00:28, 99.1kB/s]\n",
      " 57%|█████▋    | 3.58M/6.23M [00:31<00:29, 94.0kB/s]\n",
      " 58%|█████▊    | 3.59M/6.23M [00:31<00:48, 57.0kB/s]\n",
      " 58%|█████▊    | 3.60M/6.23M [00:31<00:48, 56.9kB/s]\n",
      " 58%|█████▊    | 3.62M/6.23M [00:32<00:52, 52.4kB/s]\n",
      " 59%|█████▉    | 3.66M/6.23M [00:32<00:27, 96.9kB/s]\n",
      " 59%|█████▉    | 3.68M/6.23M [00:32<00:25, 106kB/s] \n",
      " 60%|█████▉    | 3.71M/6.23M [00:32<00:20, 129kB/s]\n",
      " 60%|██████    | 3.74M/6.23M [00:32<00:20, 130kB/s]\n",
      " 61%|██████    | 3.77M/6.23M [00:33<00:20, 129kB/s]\n",
      " 61%|██████    | 3.79M/6.23M [00:33<00:23, 111kB/s]\n",
      " 61%|██████▏   | 3.82M/6.23M [00:33<00:19, 133kB/s]\n",
      " 62%|██████▏   | 3.84M/6.23M [00:33<00:26, 95.6kB/s]\n",
      " 62%|██████▏   | 3.87M/6.23M [00:34<00:23, 106kB/s] \n",
      " 63%|██████▎   | 3.90M/6.23M [00:34<00:21, 114kB/s]\n",
      " 63%|██████▎   | 3.91M/6.23M [00:34<00:21, 112kB/s]\n",
      " 63%|██████▎   | 3.95M/6.23M [00:34<00:21, 113kB/s]\n",
      " 64%|██████▍   | 3.98M/6.23M [00:35<00:22, 106kB/s]\n",
      " 65%|██████▍   | 4.02M/6.23M [00:35<00:14, 157kB/s]\n",
      " 65%|██████▍   | 4.05M/6.23M [00:35<00:14, 158kB/s]\n",
      " 66%|██████▌   | 4.09M/6.23M [00:35<00:13, 168kB/s]\n",
      " 66%|██████▌   | 4.12M/6.23M [00:36<00:17, 125kB/s]\n",
      " 67%|██████▋   | 4.16M/6.23M [00:36<00:13, 166kB/s]\n",
      " 68%|██████▊   | 4.21M/6.23M [00:36<00:16, 126kB/s]\n",
      " 68%|██████▊   | 4.26M/6.23M [00:36<00:13, 154kB/s]\n",
      " 70%|██████▉   | 4.34M/6.23M [00:37<00:09, 220kB/s]\n",
      " 71%|███████   | 4.40M/6.23M [00:37<00:10, 188kB/s]\n",
      " 72%|███████▏  | 4.48M/6.23M [00:38<00:10, 181kB/s]\n",
      " 73%|███████▎  | 4.54M/6.23M [00:38<00:10, 162kB/s]\n",
      " 73%|███████▎  | 4.57M/6.23M [00:38<00:11, 151kB/s]\n",
      " 74%|███████▎  | 4.59M/6.23M [00:39<00:11, 150kB/s]\n",
      " 74%|███████▍  | 4.61M/6.23M [00:39<00:13, 129kB/s]\n",
      " 74%|███████▍  | 4.62M/6.23M [00:39<00:15, 112kB/s]\n",
      " 74%|███████▍  | 4.64M/6.23M [00:39<00:15, 105kB/s]\n",
      " 75%|███████▍  | 4.66M/6.23M [00:40<00:18, 91.6kB/s]\n",
      " 75%|███████▍  | 4.67M/6.23M [00:40<00:16, 97.3kB/s]\n",
      " 75%|███████▌  | 4.69M/6.23M [00:40<00:19, 82.3kB/s]\n",
      " 75%|███████▌  | 4.70M/6.23M [00:40<00:20, 77.7kB/s]\n",
      " 76%|███████▌  | 4.71M/6.23M [00:40<00:23, 68.0kB/s]\n",
      " 76%|███████▌  | 4.73M/6.23M [00:41<00:19, 80.5kB/s]\n",
      " 76%|███████▌  | 4.74M/6.23M [00:41<00:17, 88.6kB/s]\n",
      " 76%|███████▋  | 4.76M/6.23M [00:41<00:15, 97.3kB/s]\n",
      " 77%|███████▋  | 4.77M/6.23M [00:41<00:29, 51.8kB/s]\n",
      " 77%|███████▋  | 4.79M/6.23M [00:42<00:24, 62.8kB/s]\n",
      " 77%|███████▋  | 4.80M/6.23M [00:42<00:21, 69.3kB/s]\n",
      " 77%|███████▋  | 4.82M/6.23M [00:42<00:20, 73.1kB/s]\n",
      " 78%|███████▊  | 4.84M/6.23M [00:42<00:17, 86.0kB/s]\n",
      " 78%|███████▊  | 4.85M/6.23M [00:42<00:15, 91.3kB/s]\n",
      " 78%|███████▊  | 4.87M/6.23M [00:42<00:16, 89.0kB/s]\n",
      " 79%|███████▊  | 4.90M/6.23M [00:43<00:13, 106kB/s] \n",
      " 79%|███████▉  | 4.91M/6.23M [00:43<00:12, 110kB/s]\n",
      " 79%|███████▉  | 4.93M/6.23M [00:43<00:11, 118kB/s]\n",
      " 79%|███████▉  | 4.95M/6.23M [00:43<00:10, 123kB/s]\n",
      " 80%|███████▉  | 4.96M/6.23M [00:43<00:10, 131kB/s]\n",
      " 80%|███████▉  | 4.98M/6.23M [00:43<00:10, 127kB/s]\n",
      " 80%|████████  | 5.01M/6.23M [00:43<00:08, 145kB/s]\n",
      " 81%|████████  | 5.04M/6.23M [00:44<00:07, 160kB/s]\n",
      " 81%|████████▏ | 5.07M/6.23M [00:44<00:07, 170kB/s]\n",
      " 82%|████████▏ | 5.09M/6.23M [00:44<00:06, 172kB/s]\n",
      " 82%|████████▏ | 5.12M/6.23M [00:44<00:06, 167kB/s]\n",
      " 82%|████████▏ | 5.14M/6.23M [00:44<00:06, 167kB/s]\n",
      " 83%|████████▎ | 5.16M/6.23M [00:44<00:07, 150kB/s]\n",
      " 83%|████████▎ | 5.18M/6.23M [00:45<00:07, 152kB/s]\n",
      " 83%|████████▎ | 5.20M/6.23M [00:45<00:07, 152kB/s]\n",
      " 84%|████████▎ | 5.21M/6.23M [00:45<00:07, 146kB/s]\n",
      " 84%|████████▍ | 5.24M/6.23M [00:45<00:06, 170kB/s]\n",
      " 84%|████████▍ | 5.27M/6.23M [00:45<00:06, 168kB/s]\n",
      " 85%|████████▍ | 5.29M/6.23M [00:45<00:06, 158kB/s]\n",
      " 85%|████████▌ | 5.32M/6.23M [00:45<00:05, 179kB/s]\n",
      " 86%|████████▌ | 5.35M/6.23M [00:46<00:05, 157kB/s]\n",
      " 86%|████████▋ | 5.38M/6.23M [00:46<00:04, 180kB/s]\n",
      " 87%|████████▋ | 5.41M/6.23M [00:46<00:04, 173kB/s]\n",
      " 87%|████████▋ | 5.44M/6.23M [00:46<00:04, 177kB/s]\n",
      " 88%|████████▊ | 5.46M/6.23M [00:46<00:05, 161kB/s]\n",
      " 88%|████████▊ | 5.48M/6.23M [00:46<00:05, 147kB/s]\n",
      " 88%|████████▊ | 5.50M/6.23M [00:47<00:06, 116kB/s]\n",
      " 89%|████████▊ | 5.52M/6.23M [00:47<00:06, 115kB/s]\n",
      " 89%|████████▉ | 5.53M/6.23M [00:47<00:07, 102kB/s]\n",
      " 89%|████████▉ | 5.55M/6.23M [00:47<00:08, 83.2kB/s]\n",
      " 89%|████████▉ | 5.56M/6.23M [00:48<00:09, 76.9kB/s]\n",
      " 90%|████████▉ | 5.58M/6.23M [00:48<00:09, 69.5kB/s]\n",
      " 90%|████████▉ | 5.59M/6.23M [00:48<00:10, 64.5kB/s]\n",
      " 90%|████████▉ | 5.60M/6.23M [00:48<00:08, 73.6kB/s]\n",
      " 90%|█████████ | 5.62M/6.23M [00:48<00:07, 86.7kB/s]\n",
      " 90%|█████████ | 5.63M/6.23M [00:49<00:07, 82.0kB/s]\n",
      " 91%|█████████ | 5.66M/6.23M [00:49<00:05, 105kB/s] \n",
      " 91%|█████████ | 5.68M/6.23M [00:49<00:05, 109kB/s]\n",
      " 91%|█████████▏| 5.70M/6.23M [00:49<00:05, 102kB/s]\n",
      " 92%|█████████▏| 5.73M/6.23M [00:49<00:05, 101kB/s]\n",
      " 92%|█████████▏| 5.74M/6.23M [00:50<00:05, 97.5kB/s]\n",
      " 92%|█████████▏| 5.76M/6.23M [00:50<00:06, 77.7kB/s]\n",
      " 93%|█████████▎| 5.77M/6.23M [00:50<00:06, 72.5kB/s]\n",
      " 93%|█████████▎| 5.79M/6.23M [00:51<00:09, 47.6kB/s]\n",
      " 93%|█████████▎| 5.80M/6.23M [00:51<00:08, 54.0kB/s]\n",
      " 93%|█████████▎| 5.82M/6.23M [00:51<00:07, 57.8kB/s]\n",
      " 94%|█████████▎| 5.84M/6.23M [00:52<00:07, 58.8kB/s]\n",
      " 94%|█████████▍| 5.85M/6.23M [00:52<00:06, 59.6kB/s]\n",
      " 94%|█████████▍| 5.87M/6.23M [00:52<00:05, 71.0kB/s]\n",
      " 94%|█████████▍| 5.88M/6.23M [00:52<00:05, 69.4kB/s]\n",
      " 95%|█████████▍| 5.90M/6.23M [00:52<00:04, 72.9kB/s]\n",
      " 95%|█████████▍| 5.91M/6.23M [00:53<00:04, 78.4kB/s]\n",
      " 95%|█████████▌| 5.93M/6.23M [00:53<00:04, 65.0kB/s]\n",
      " 95%|█████████▌| 5.95M/6.23M [00:53<00:05, 52.8kB/s]\n",
      " 96%|█████████▌| 5.96M/6.23M [00:54<00:05, 52.5kB/s]\n",
      " 96%|█████████▌| 5.98M/6.23M [00:55<00:07, 36.5kB/s]\n",
      " 96%|█████████▌| 5.99M/6.23M [00:55<00:06, 39.1kB/s]\n",
      " 96%|█████████▋| 6.01M/6.23M [00:55<00:05, 42.6kB/s]\n",
      " 97%|█████████▋| 6.02M/6.23M [00:56<00:05, 43.5kB/s]\n",
      " 97%|█████████▋| 6.04M/6.23M [00:56<00:05, 36.8kB/s]\n",
      " 97%|█████████▋| 6.05M/6.23M [00:56<00:04, 45.0kB/s]\n",
      " 97%|█████████▋| 6.07M/6.23M [00:57<00:04, 39.8kB/s]\n",
      " 98%|█████████▊| 6.09M/6.23M [00:57<00:04, 36.3kB/s]\n",
      " 98%|█████████▊| 6.10M/6.23M [00:58<00:04, 28.7kB/s]\n",
      " 98%|█████████▊| 6.12M/6.23M [00:59<00:03, 33.0kB/s]\n",
      " 98%|█████████▊| 6.13M/6.23M [00:59<00:02, 38.8kB/s]\n",
      " 99%|█████████▊| 6.15M/6.23M [00:59<00:02, 40.2kB/s]\n",
      " 99%|█████████▉| 6.16M/6.23M [01:00<00:01, 41.1kB/s]\n",
      " 99%|█████████▉| 6.18M/6.23M [01:00<00:01, 39.6kB/s]\n",
      " 99%|█████████▉| 6.20M/6.23M [01:01<00:01, 29.9kB/s]\n",
      "100%|█████████▉| 6.21M/6.23M [01:01<00:00, 35.2kB/s]\n",
      "100%|█████████▉| 6.23M/6.23M [01:01<00:00, 43.4kB/s]\n",
      "100%|██████████| 6.23M/6.23M [01:01<00:00, 106kB/s] \n",
      "\n",
      "  0%|          | 0.00/165k [00:00<?, ?B/s]\n",
      "  5%|▍         | 8.00k/165k [00:00<00:02, 63.9kB/s]\n",
      " 34%|███▍      | 56.0k/165k [00:00<00:00, 268kB/s] \n",
      " 73%|███████▎  | 120k/165k [00:00<00:00, 420kB/s] \n",
      "100%|██████████| 165k/165k [00:00<00:00, 407kB/s]\n",
      "F:\\work\\environment\\envs\\yolo\\Lib\\site-packages\\onnxruntime\\capi\\onnxruntime_validation.py:26: UserWarning: Unsupported Windows version (11). ONNX Runtime supports Windows 10 and above, only.\n",
      "  warnings.warn(\n"
     ]
    }
   ],
   "execution_count": 2
  },
  {
   "cell_type": "markdown",
   "metadata": {
    "id": "hkAzDWJ7cWTr"
   },
   "source": [
    "&nbsp;&nbsp;&nbsp;&nbsp;&nbsp;&nbsp;&nbsp;&nbsp;\n",
    "<img align=\"left\" src=\"https://user-images.githubusercontent.com/26833433/212889447-69e5bdf1-5800-4e29-835e-2ed2336dede2.jpg\" width=\"600\">"
   ]
  },
  {
   "cell_type": "markdown",
   "metadata": {
    "id": "0eq1SMWl6Sfn"
   },
   "source": [
    "# 2. Val\n",
    "Validate a model's accuracy on the [COCO](https://docs.ultralytics.com/datasets/detect/coco/) dataset's `val` or `test` splits. The latest YOLOv8 [models](https://github.com/ultralytics/ultralytics#models) are downloaded automatically the first time they are used. See [YOLOv8 Val Docs](https://docs.ultralytics.com/modes/val/) for more information."
   ]
  },
  {
   "cell_type": "code",
   "metadata": {
    "id": "WQPtK1QYVaD_"
   },
   "source": [
    "# Download COCO val\n",
    "import torch\n",
    "torch.hub.download_url_to_file('https://ultralytics.com/assets/coco2017val.zip', 'tmp.zip')  # download (780M - 5000 images)\n",
    "!unzip -q tmp.zip -d datasets && rm tmp.zip  # unzip"
   ],
   "execution_count": null,
   "outputs": []
  },
  {
   "cell_type": "code",
   "metadata": {
    "id": "X58w8JLpMnjH",
    "outputId": "bed10d45-ceb6-4b6f-86b7-9428208b142a",
    "colab": {
     "base_uri": "https://localhost:8080/"
    }
   },
   "source": [
    "# Validate YOLOv8n on COCO8 val\n",
    "!yolo val model=yolov8n.pt data=coco8.yaml"
   ],
   "execution_count": 3,
   "outputs": [
    {
     "output_type": "stream",
     "name": "stdout",
     "text": [
      "Ultralytics YOLOv8.2.3 🚀 Python-3.10.12 torch-2.2.1+cu121 CUDA:0 (Tesla T4, 15102MiB)\n",
      "YOLOv8n summary (fused): 168 layers, 3151904 parameters, 0 gradients, 8.7 GFLOPs\n",
      "\n",
      "Dataset 'coco8.yaml' images not found ⚠️, missing path '/content/datasets/coco8/images/val'\n",
      "Downloading https://ultralytics.com/assets/coco8.zip to '/content/datasets/coco8.zip'...\n",
      "100% 433k/433k [00:00<00:00, 14.2MB/s]\n",
      "Unzipping /content/datasets/coco8.zip to /content/datasets/coco8...: 100% 25/25 [00:00<00:00, 1093.93file/s]\n",
      "Dataset download success ✅ (1.3s), saved to \u001B[1m/content/datasets\u001B[0m\n",
      "\n",
      "Downloading https://ultralytics.com/assets/Arial.ttf to '/root/.config/Ultralytics/Arial.ttf'...\n",
      "100% 755k/755k [00:00<00:00, 17.4MB/s]\n",
      "\u001B[34m\u001B[1mval: \u001B[0mScanning /content/datasets/coco8/labels/val... 4 images, 0 backgrounds, 0 corrupt: 100% 4/4 [00:00<00:00, 157.00it/s]\n",
      "\u001B[34m\u001B[1mval: \u001B[0mNew cache created: /content/datasets/coco8/labels/val.cache\n",
      "                 Class     Images  Instances      Box(P          R      mAP50  mAP50-95): 100% 1/1 [00:06<00:00,  6.89s/it]\n",
      "                   all          4         17      0.621      0.833      0.888       0.63\n",
      "                person          4         10      0.721        0.5      0.519      0.269\n",
      "                   dog          4          1       0.37          1      0.995      0.597\n",
      "                 horse          4          2      0.751          1      0.995      0.631\n",
      "              elephant          4          2      0.505        0.5      0.828      0.394\n",
      "              umbrella          4          1      0.564          1      0.995      0.995\n",
      "          potted plant          4          1      0.814          1      0.995      0.895\n",
      "Speed: 0.3ms preprocess, 4.9ms inference, 0.0ms loss, 1.3ms postprocess per image\n",
      "Results saved to \u001B[1mruns/detect/val\u001B[0m\n",
      "💡 Learn more at https://docs.ultralytics.com/modes/val\n"
     ]
    }
   ]
  },
  {
   "cell_type": "markdown",
   "metadata": {
    "id": "ZY2VXXXu74w5"
   },
   "source": [
    "# 3. Train\n",
    "\n",
    "<p align=\"\"><a href=\"https://bit.ly/ultralytics_hub\"><img width=\"1000\" src=\"https://github.com/ultralytics/assets/raw/main/yolov8/banner-integrations.png\"/></a></p>\n",
    "\n",
    "Train YOLOv8 on [Detect](https://docs.ultralytics.com/tasks/detect/), [Segment](https://docs.ultralytics.com/tasks/segment/), [Classify](https://docs.ultralytics.com/tasks/classify/) and [Pose](https://docs.ultralytics.com/tasks/pose/) datasets. See [YOLOv8 Train Docs](https://docs.ultralytics.com/modes/train/) for more information."
   ]
  },
  {
   "cell_type": "code",
   "source": [
    "#@title Select YOLOv8 🚀 logger {run: 'auto'}\n",
    "logger = 'Comet' #@param ['Comet', 'TensorBoard']\n",
    "\n",
    "if logger == 'Comet':\n",
    "  %pip install -q comet_ml\n",
    "  import comet_ml; comet_ml.init()\n",
    "elif logger == 'TensorBoard':\n",
    "  %load_ext tensorboard\n",
    "  %tensorboard --logdir ."
   ],
   "metadata": {
    "id": "ktegpM42AooT"
   },
   "execution_count": null,
   "outputs": []
  },
  {
   "cell_type": "code",
   "metadata": {
    "id": "1NcFxRcFdJ_O",
    "outputId": "9f60c6cb-fa9c-4785-cb7a-71d40abeaf38",
    "colab": {
     "base_uri": "https://localhost:8080/"
    }
   },
   "source": [
    "# Train YOLOv8n on COCO8 for 3 epochs\n",
    "!yolo train model=yolov8n.pt data=coco8.yaml epochs=3 imgsz=640"
   ],
   "execution_count": 4,
   "outputs": [
    {
     "output_type": "stream",
     "name": "stdout",
     "text": [
      "Ultralytics YOLOv8.2.3 🚀 Python-3.10.12 torch-2.2.1+cu121 CUDA:0 (Tesla T4, 15102MiB)\n",
      "\u001B[34m\u001B[1mengine/trainer: \u001B[0mtask=detect, mode=train, model=yolov8n.pt, data=coco8.yaml, epochs=3, time=None, patience=100, batch=16, imgsz=640, save=True, save_period=-1, cache=False, device=None, workers=8, project=None, name=train, exist_ok=False, pretrained=True, optimizer=auto, verbose=True, seed=0, deterministic=True, single_cls=False, rect=False, cos_lr=False, close_mosaic=10, resume=False, amp=True, fraction=1.0, profile=False, freeze=None, multi_scale=False, overlap_mask=True, mask_ratio=4, dropout=0.0, val=True, split=val, save_json=False, save_hybrid=False, conf=None, iou=0.7, max_det=300, half=False, dnn=False, plots=True, source=None, vid_stride=1, stream_buffer=False, visualize=False, augment=False, agnostic_nms=False, classes=None, retina_masks=False, embed=None, show=False, save_frames=False, save_txt=False, save_conf=False, save_crop=False, show_labels=True, show_conf=True, show_boxes=True, line_width=None, format=torchscript, keras=False, optimize=False, int8=False, dynamic=False, simplify=False, opset=None, workspace=4, nms=False, lr0=0.01, lrf=0.01, momentum=0.937, weight_decay=0.0005, warmup_epochs=3.0, warmup_momentum=0.8, warmup_bias_lr=0.1, box=7.5, cls=0.5, dfl=1.5, pose=12.0, kobj=1.0, label_smoothing=0.0, nbs=64, hsv_h=0.015, hsv_s=0.7, hsv_v=0.4, degrees=0.0, translate=0.1, scale=0.5, shear=0.0, perspective=0.0, flipud=0.0, fliplr=0.5, bgr=0.0, mosaic=1.0, mixup=0.0, copy_paste=0.0, auto_augment=randaugment, erasing=0.4, crop_fraction=1.0, cfg=None, tracker=botsort.yaml, save_dir=runs/detect/train\n",
      "\n",
      "                   from  n    params  module                                       arguments                     \n",
      "  0                  -1  1       464  ultralytics.nn.modules.conv.Conv             [3, 16, 3, 2]                 \n",
      "  1                  -1  1      4672  ultralytics.nn.modules.conv.Conv             [16, 32, 3, 2]                \n",
      "  2                  -1  1      7360  ultralytics.nn.modules.block.C2f             [32, 32, 1, True]             \n",
      "  3                  -1  1     18560  ultralytics.nn.modules.conv.Conv             [32, 64, 3, 2]                \n",
      "  4                  -1  2     49664  ultralytics.nn.modules.block.C2f             [64, 64, 2, True]             \n",
      "  5                  -1  1     73984  ultralytics.nn.modules.conv.Conv             [64, 128, 3, 2]               \n",
      "  6                  -1  2    197632  ultralytics.nn.modules.block.C2f             [128, 128, 2, True]           \n",
      "  7                  -1  1    295424  ultralytics.nn.modules.conv.Conv             [128, 256, 3, 2]              \n",
      "  8                  -1  1    460288  ultralytics.nn.modules.block.C2f             [256, 256, 1, True]           \n",
      "  9                  -1  1    164608  ultralytics.nn.modules.block.SPPF            [256, 256, 5]                 \n",
      " 10                  -1  1         0  torch.nn.modules.upsampling.Upsample         [None, 2, 'nearest']          \n",
      " 11             [-1, 6]  1         0  ultralytics.nn.modules.conv.Concat           [1]                           \n",
      " 12                  -1  1    148224  ultralytics.nn.modules.block.C2f             [384, 128, 1]                 \n",
      " 13                  -1  1         0  torch.nn.modules.upsampling.Upsample         [None, 2, 'nearest']          \n",
      " 14             [-1, 4]  1         0  ultralytics.nn.modules.conv.Concat           [1]                           \n",
      " 15                  -1  1     37248  ultralytics.nn.modules.block.C2f             [192, 64, 1]                  \n",
      " 16                  -1  1     36992  ultralytics.nn.modules.conv.Conv             [64, 64, 3, 2]                \n",
      " 17            [-1, 12]  1         0  ultralytics.nn.modules.conv.Concat           [1]                           \n",
      " 18                  -1  1    123648  ultralytics.nn.modules.block.C2f             [192, 128, 1]                 \n",
      " 19                  -1  1    147712  ultralytics.nn.modules.conv.Conv             [128, 128, 3, 2]              \n",
      " 20             [-1, 9]  1         0  ultralytics.nn.modules.conv.Concat           [1]                           \n",
      " 21                  -1  1    493056  ultralytics.nn.modules.block.C2f             [384, 256, 1]                 \n",
      " 22        [15, 18, 21]  1    897664  ultralytics.nn.modules.head.Detect           [80, [64, 128, 256]]          \n",
      "Model summary: 225 layers, 3157200 parameters, 3157184 gradients, 8.9 GFLOPs\n",
      "\n",
      "Transferred 355/355 items from pretrained weights\n",
      "\u001B[34m\u001B[1mTensorBoard: \u001B[0mStart with 'tensorboard --logdir runs/detect/train', view at http://localhost:6006/\n",
      "Freezing layer 'model.22.dfl.conv.weight'\n",
      "\u001B[34m\u001B[1mAMP: \u001B[0mrunning Automatic Mixed Precision (AMP) checks with YOLOv8n...\n",
      "\u001B[34m\u001B[1mAMP: \u001B[0mchecks passed ✅\n",
      "\u001B[34m\u001B[1mtrain: \u001B[0mScanning /content/datasets/coco8/labels/train... 4 images, 0 backgrounds, 0 corrupt: 100% 4/4 [00:00<00:00, 837.19it/s]\n",
      "\u001B[34m\u001B[1mtrain: \u001B[0mNew cache created: /content/datasets/coco8/labels/train.cache\n",
      "\u001B[34m\u001B[1malbumentations: \u001B[0mBlur(p=0.01, blur_limit=(3, 7)), MedianBlur(p=0.01, blur_limit=(3, 7)), ToGray(p=0.01), CLAHE(p=0.01, clip_limit=(1, 4.0), tile_grid_size=(8, 8))\n",
      "/usr/lib/python3.10/multiprocessing/popen_fork.py:66: RuntimeWarning: os.fork() was called. os.fork() is incompatible with multithreaded code, and JAX is multithreaded, so this will likely lead to a deadlock.\n",
      "  self.pid = os.fork()\n",
      "\u001B[34m\u001B[1mval: \u001B[0mScanning /content/datasets/coco8/labels/val.cache... 4 images, 0 backgrounds, 0 corrupt: 100% 4/4 [00:00<?, ?it/s]\n",
      "Plotting labels to runs/detect/train/labels.jpg... \n",
      "\u001B[34m\u001B[1moptimizer:\u001B[0m 'optimizer=auto' found, ignoring 'lr0=0.01' and 'momentum=0.937' and determining best 'optimizer', 'lr0' and 'momentum' automatically... \n",
      "\u001B[34m\u001B[1moptimizer:\u001B[0m AdamW(lr=0.000119, momentum=0.9) with parameter groups 57 weight(decay=0.0), 64 weight(decay=0.0005), 63 bias(decay=0.0)\n",
      "\u001B[34m\u001B[1mTensorBoard: \u001B[0mmodel graph visualization added ✅\n",
      "Image sizes 640 train, 640 val\n",
      "Using 2 dataloader workers\n",
      "Logging results to \u001B[1mruns/detect/train\u001B[0m\n",
      "Starting training for 3 epochs...\n",
      "\n",
      "      Epoch    GPU_mem   box_loss   cls_loss   dfl_loss  Instances       Size\n",
      "        1/3      0.81G      1.039      3.146      1.498         25        640: 100% 1/1 [00:01<00:00,  1.51s/it]\n",
      "                 Class     Images  Instances      Box(P          R      mAP50  mAP50-95): 100% 1/1 [00:00<00:00,  2.32it/s]\n",
      "                   all          4         17       0.62      0.885      0.888      0.621\n",
      "\n",
      "      Epoch    GPU_mem   box_loss   cls_loss   dfl_loss  Instances       Size\n",
      "        2/3     0.772G      1.169      2.779      1.442         36        640: 100% 1/1 [00:00<00:00,  8.14it/s]\n",
      "                 Class     Images  Instances      Box(P          R      mAP50  mAP50-95): 100% 1/1 [00:00<00:00,  3.22it/s]\n",
      "                   all          4         17      0.595      0.903      0.888      0.616\n",
      "\n",
      "      Epoch    GPU_mem   box_loss   cls_loss   dfl_loss  Instances       Size\n",
      "        3/3     0.776G     0.6701      3.697      1.096         17        640: 100% 1/1 [00:00<00:00,  6.45it/s]\n",
      "                 Class     Images  Instances      Box(P          R      mAP50  mAP50-95): 100% 1/1 [00:00<00:00,  5.66it/s]\n",
      "                   all          4         17      0.577      0.833      0.874      0.614\n",
      "\n",
      "3 epochs completed in 0.002 hours.\n",
      "Optimizer stripped from runs/detect/train/weights/last.pt, 6.5MB\n",
      "Optimizer stripped from runs/detect/train/weights/best.pt, 6.5MB\n",
      "\n",
      "Validating runs/detect/train/weights/best.pt...\n",
      "Ultralytics YOLOv8.2.3 🚀 Python-3.10.12 torch-2.2.1+cu121 CUDA:0 (Tesla T4, 15102MiB)\n",
      "Model summary (fused): 168 layers, 3151904 parameters, 0 gradients, 8.7 GFLOPs\n",
      "                 Class     Images  Instances      Box(P          R      mAP50  mAP50-95): 100% 1/1 [00:00<00:00, 18.23it/s]\n",
      "                   all          4         17      0.617      0.884      0.888      0.622\n",
      "                person          4         10       0.67        0.5       0.52      0.278\n",
      "                   dog          4          1      0.361          1      0.995      0.597\n",
      "                 horse          4          2      0.728          1      0.995      0.631\n",
      "              elephant          4          2      0.602      0.805      0.828      0.332\n",
      "              umbrella          4          1      0.553          1      0.995      0.995\n",
      "          potted plant          4          1      0.789          1      0.995      0.895\n",
      "Speed: 0.3ms preprocess, 4.1ms inference, 0.0ms loss, 1.2ms postprocess per image\n",
      "Results saved to \u001B[1mruns/detect/train\u001B[0m\n",
      "💡 Learn more at https://docs.ultralytics.com/modes/train\n"
     ]
    }
   ]
  },
  {
   "cell_type": "markdown",
   "source": [
    "# 4. Export\n",
    "\n",
    "Export a YOLOv8 model to any supported format below with the `format` argument, i.e. `format=onnx`. See [YOLOv8 Export Docs](https://docs.ultralytics.com/modes/export/) for more information.\n",
    "\n",
    "- 💡 ProTip: Export to [ONNX](https://docs.ultralytics.com/integrations/onnx/) or [OpenVINO](https://docs.ultralytics.com/integrations/openvino/) for up to 3x CPU speedup.  \n",
    "- 💡 ProTip: Export to [TensorRT](https://docs.ultralytics.com/integrations/tensorrt/) for up to 5x GPU speedup.\n",
    "\n",
    "| Format                                                                   | `format` Argument | Model                     | Metadata | Arguments                                                            |\n",
    "|--------------------------------------------------------------------------|-------------------|---------------------------|----------|----------------------------------------------------------------------|\n",
    "| [PyTorch](https://pytorch.org/)                                          | -                 | `yolov8n.pt`              | ✅        | -                                                                    |\n",
    "| [TorchScript](https://docs.ultralytics.com/integrations/torchscript)     | `torchscript`     | `yolov8n.torchscript`     | ✅        | `imgsz`, `optimize`, `batch`                                         |\n",
    "| [ONNX](https://docs.ultralytics.com/integrations/onnx)                   | `onnx`            | `yolov8n.onnx`            | ✅        | `imgsz`, `half`, `dynamic`, `simplify`, `opset`, `batch`             |\n",
    "| [OpenVINO](https://docs.ultralytics.com/integrations/openvino)           | `openvino`        | `yolov8n_openvino_model/` | ✅        | `imgsz`, `half`, `int8`, `batch`                                     |\n",
    "| [TensorRT](https://docs.ultralytics.com/integrations/tensorrt)           | `engine`          | `yolov8n.engine`          | ✅        | `imgsz`, `half`, `dynamic`, `simplify`, `workspace`, `int8`, `batch` |\n",
    "| [CoreML](https://docs.ultralytics.com/integrations/coreml)               | `coreml`          | `yolov8n.mlpackage`       | ✅        | `imgsz`, `half`, `int8`, `nms`, `batch`                              |\n",
    "| [TF SavedModel](https://docs.ultralytics.com/integrations/tf-savedmodel) | `saved_model`     | `yolov8n_saved_model/`    | ✅        | `imgsz`, `keras`, `int8`, `batch`                                    |\n",
    "| [TF GraphDef](https://docs.ultralytics.com/integrations/tf-graphdef)     | `pb`              | `yolov8n.pb`              | ❌        | `imgsz`, `batch`                                                     |\n",
    "| [TF Lite](https://docs.ultralytics.com/integrations/tflite)              | `tflite`          | `yolov8n.tflite`          | ✅        | `imgsz`, `half`, `int8`, `batch`                                     |\n",
    "| [TF Edge TPU](https://docs.ultralytics.com/integrations/edge-tpu)        | `edgetpu`         | `yolov8n_edgetpu.tflite`  | ✅        | `imgsz`, `batch`                                                     |\n",
    "| [TF.js](https://docs.ultralytics.com/integrations/tfjs)                  | `tfjs`            | `yolov8n_web_model/`      | ✅        | `imgsz`, `half`, `int8`, `batch`                                     |\n",
    "| [PaddlePaddle](https://docs.ultralytics.com/integrations/paddlepaddle)   | `paddle`          | `yolov8n_paddle_model/`   | ✅        | `imgsz`, `batch`                                                     |\n",
    "| [NCNN](https://docs.ultralytics.com/integrations/ncnn)                   | `ncnn`            | `yolov8n_ncnn_model/`     | ✅        | `imgsz`, `half`, `batch`                                             |"
   ],
   "metadata": {
    "id": "nPZZeNrLCQG6"
   }
  },
  {
   "cell_type": "code",
   "source": [
    "!yolo export model=yolov8n.pt format=torchscript"
   ],
   "metadata": {
    "colab": {
     "base_uri": "https://localhost:8080/"
    },
    "id": "CYIjW4igCjqD",
    "outputId": "947e65cc-79c8-4713-bfd4-3139903ac05a"
   },
   "execution_count": 5,
   "outputs": [
    {
     "output_type": "stream",
     "name": "stdout",
     "text": [
      "Ultralytics YOLOv8.2.3 🚀 Python-3.10.12 torch-2.2.1+cu121 CPU (Intel Xeon 2.00GHz)\n",
      "YOLOv8n summary (fused): 168 layers, 3151904 parameters, 0 gradients, 8.7 GFLOPs\n",
      "\n",
      "\u001B[34m\u001B[1mPyTorch:\u001B[0m starting from 'yolov8n.pt' with input shape (1, 3, 640, 640) BCHW and output shape(s) (1, 84, 8400) (6.2 MB)\n",
      "\n",
      "\u001B[34m\u001B[1mTorchScript:\u001B[0m starting export with torch 2.2.1+cu121...\n",
      "\u001B[34m\u001B[1mTorchScript:\u001B[0m export success ✅ 2.0s, saved as 'yolov8n.torchscript' (12.4 MB)\n",
      "\n",
      "Export complete (4.0s)\n",
      "Results saved to \u001B[1m/content\u001B[0m\n",
      "Predict:         yolo predict task=detect model=yolov8n.torchscript imgsz=640  \n",
      "Validate:        yolo val task=detect model=yolov8n.torchscript imgsz=640 data=coco.yaml  \n",
      "Visualize:       https://netron.app\n",
      "💡 Learn more at https://docs.ultralytics.com/modes/export\n"
     ]
    }
   ]
  },
  {
   "cell_type": "markdown",
   "source": [
    "# 5. Python Usage\n",
    "\n",
    "YOLOv8 was reimagined using Python-first principles for the most seamless Python YOLO experience yet. YOLOv8 models can be loaded from a trained checkpoint or created from scratch. Then methods are used to train, val, predict, and export the model. See detailed Python usage examples in the [YOLOv8 Python Docs](https://docs.ultralytics.com/usage/python/)."
   ],
   "metadata": {
    "id": "kUMOQ0OeDBJG"
   }
  },
  {
   "cell_type": "code",
   "source": [
    "from ultralytics import YOLO\n",
    "\n",
    "# Load a model\n",
    "model = YOLO('yolov8n.yaml')  # build a new model from scratch\n",
    "model = YOLO('yolov8n.pt')  # load a pretrained model (recommended for training)\n",
    "\n",
    "# Use the model\n",
    "results = model.train(data='coco8.yaml', epochs=3)  # train the model\n",
    "results = model.val()  # evaluate model performance on the validation set\n",
    "results = model('https://ultralytics.com/images/bus.jpg')  # predict on an image\n",
    "results = model.export(format='onnx')  # export the model to ONNX format"
   ],
   "metadata": {
    "id": "bpF9-vS_DAaf"
   },
   "execution_count": null,
   "outputs": []
  },
  {
   "cell_type": "markdown",
   "source": [
    "# 6. Tasks\n",
    "\n",
    "YOLOv8 can train, val, predict and export models for the most common tasks in vision AI: [Detect](https://docs.ultralytics.com/tasks/detect/), [Segment](https://docs.ultralytics.com/tasks/segment/), [Classify](https://docs.ultralytics.com/tasks/classify/) and [Pose](https://docs.ultralytics.com/tasks/pose/). See [YOLOv8 Tasks Docs](https://docs.ultralytics.com/tasks/) for more information.\n",
    "\n",
    "<br><img width=\"1024\" src=\"https://raw.githubusercontent.com/ultralytics/assets/main/im/banner-tasks.png\">\n"
   ],
   "metadata": {
    "id": "Phm9ccmOKye5"
   }
  },
  {
   "cell_type": "markdown",
   "source": [
    "## 1. Detection\n",
    "\n",
    "YOLOv8 _detection_ models have no suffix and are the default YOLOv8 models, i.e. `yolov8n.pt` and are pretrained on COCO. See [Detection Docs](https://docs.ultralytics.com/tasks/detect/) for full details.\n"
   ],
   "metadata": {
    "id": "yq26lwpYK1lq"
   }
  },
  {
   "cell_type": "code",
   "source": [
    "# Load YOLOv8n, train it on COCO128 for 3 epochs and predict an image with it\n",
    "from ultralytics import YOLO\n",
    "\n",
    "model = YOLO('yolov8n.pt')  # load a pretrained YOLOv8n detection model\n",
    "model.train(data='coco8.yaml', epochs=3)  # train the model\n",
    "model('https://ultralytics.com/images/bus.jpg')  # predict on an image"
   ],
   "metadata": {
    "id": "8Go5qqS9LbC5"
   },
   "execution_count": null,
   "outputs": []
  },
  {
   "cell_type": "markdown",
   "source": [
    "## 2. Segmentation\n",
    "\n",
    "YOLOv8 _segmentation_ models use the `-seg` suffix, i.e. `yolov8n-seg.pt` and are pretrained on COCO. See [Segmentation Docs](https://docs.ultralytics.com/tasks/segment/) for full details.\n"
   ],
   "metadata": {
    "id": "7ZW58jUzK66B"
   }
  },
  {
   "cell_type": "code",
   "source": [
    "# Load YOLOv8n-seg, train it on COCO128-seg for 3 epochs and predict an image with it\n",
    "from ultralytics import YOLO\n",
    "\n",
    "model = YOLO('yolov8n-seg.pt')  # load a pretrained YOLOv8n segmentation model\n",
    "model.train(data='coco8-seg.yaml', epochs=3)  # train the model\n",
    "model('https://ultralytics.com/images/bus.jpg')  # predict on an image"
   ],
   "metadata": {
    "id": "WFPJIQl_L5HT"
   },
   "execution_count": null,
   "outputs": []
  },
  {
   "cell_type": "markdown",
   "source": [
    "## 3. Classification\n",
    "\n",
    "YOLOv8 _classification_ models use the `-cls` suffix, i.e. `yolov8n-cls.pt` and are pretrained on ImageNet. See [Classification Docs](https://docs.ultralytics.com/tasks/classify/) for full details.\n"
   ],
   "metadata": {
    "id": "ax3p94VNK9zR"
   }
  },
  {
   "cell_type": "code",
   "source": [
    "# Load YOLOv8n-cls, train it on mnist160 for 3 epochs and predict an image with it\n",
    "from ultralytics import YOLO\n",
    "\n",
    "model = YOLO('yolov8n-cls.pt')  # load a pretrained YOLOv8n classification model\n",
    "model.train(data='mnist160', epochs=3)  # train the model\n",
    "model('https://ultralytics.com/images/bus.jpg')  # predict on an image"
   ],
   "metadata": {
    "id": "5q9Zu6zlL5rS"
   },
   "execution_count": null,
   "outputs": []
  },
  {
   "cell_type": "markdown",
   "source": [
    "## 4. Pose\n",
    "\n",
    "YOLOv8 _pose_ models use the `-pose` suffix, i.e. `yolov8n-pose.pt` and are pretrained on COCO Keypoints. See [Pose Docs](https://docs.ultralytics.com/tasks/pose/) for full details."
   ],
   "metadata": {
    "id": "SpIaFLiO11TG"
   }
  },
  {
   "cell_type": "code",
   "source": [
    "# Load YOLOv8n-pose, train it on COCO8-pose for 3 epochs and predict an image with it\n",
    "from ultralytics import YOLO\n",
    "\n",
    "model = YOLO('yolov8n-pose.pt')  # load a pretrained YOLOv8n pose model\n",
    "model.train(data='coco8-pose.yaml', epochs=3)  # train the model\n",
    "model('https://ultralytics.com/images/bus.jpg')  # predict on an image"
   ],
   "metadata": {
    "id": "si4aKFNg19vX"
   },
   "execution_count": null,
   "outputs": []
  },
  {
   "cell_type": "markdown",
   "source": [
    "## 4. Oriented Bounding Boxes (OBB)\n",
    "\n",
    "YOLOv8 _OBB_ models use the `-obb` suffix, i.e. `yolov8n-obb.pt` and are pretrained on the DOTA dataset. See [OBB Docs](https://docs.ultralytics.com/tasks/obb/) for full details."
   ],
   "metadata": {
    "id": "cf5j_T9-B5F0"
   }
  },
  {
   "cell_type": "code",
   "source": [
    "# Load YOLOv8n-obb, train it on DOTA8 for 3 epochs and predict an image with it\n",
    "from ultralytics import YOLO\n",
    "\n",
    "model = YOLO('yolov8n-obb.pt')  # load a pretrained YOLOv8n OBB model\n",
    "model.train(data='coco8-dota.yaml', epochs=3)  # train the model\n",
    "model('https://ultralytics.com/images/bus.jpg')  # predict on an image"
   ],
   "metadata": {
    "id": "IJNKClOOB5YS"
   },
   "execution_count": null,
   "outputs": []
  },
  {
   "cell_type": "markdown",
   "metadata": {
    "id": "IEijrePND_2I"
   },
   "source": [
    "# Appendix\n",
    "\n",
    "Additional content below."
   ]
  },
  {
   "cell_type": "code",
   "source": [
    "# Pip install from source\n",
    "!pip install git+https://github.com/ultralytics/ultralytics@main"
   ],
   "metadata": {
    "id": "pIdE6i8C3LYp"
   },
   "execution_count": null,
   "outputs": []
  },
  {
   "cell_type": "code",
   "source": [
    "# Git clone and run tests on updates branch\n",
    "!git clone https://github.com/ultralytics/ultralytics -b main\n",
    "%pip install -qe ultralytics"
   ],
   "metadata": {
    "id": "uRKlwxSJdhd1"
   },
   "execution_count": null,
   "outputs": []
  },
  {
   "cell_type": "code",
   "source": [
    "# Run tests (Git clone only)\n",
    "!pytest ultralytics/tests"
   ],
   "metadata": {
    "id": "GtPlh7mcCGZX"
   },
   "execution_count": null,
   "outputs": []
  },
  {
   "cell_type": "code",
   "source": [
    "# Validate multiple models\n",
    "for x in 'nsmlx':\n",
    "  !yolo val model=yolov8{x}.pt data=coco.yaml"
   ],
   "metadata": {
    "id": "Wdc6t_bfzDDk"
   },
   "execution_count": null,
   "outputs": []
  }
 ]
}
