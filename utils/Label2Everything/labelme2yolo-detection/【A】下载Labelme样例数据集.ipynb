{
 "cells": [
  {
   "cell_type": "markdown",
   "id": "de515fbe-d363-4529-b97a-ce5c301eca97",
   "metadata": {},
   "source": [
    "# 下载Labelme样例数据集\n",
    "\n",
    "同济子豪兄 2023-4-15\n",
    "\n",
    "Ruler_15_Dataset数据集，包含15张常见文具的图像，包含以下信息：\n",
    "\n",
    "- 目标检测框：30度直角三角板（Triangle_30）、45度直角三角板（Triangle_45）、量角器（Angle）、直尺（Ruler）"
   ]
  },
  {
   "cell_type": "code",
   "execution_count": 17,
   "id": "b4209274-5901-4b07-97b7-0fe006144500",
   "metadata": {},
   "outputs": [
    {
     "name": "stdout",
     "output_type": "stream",
     "text": [
      "--2023-04-16 16:43:49--  https://zihao-download.obs.cn-east-3.myhuaweicloud.com/yolov8/datasets/Ruler_15_Dataset.zip\n",
      "正在连接 172.16.0.13:5848... 已连接。\n",
      "已发出 Proxy 请求，正在等待回应... 200 OK\n",
      "长度： 47652385 (45M) [application/zip]\n",
      "正在保存至: “Ruler_15_Dataset.zip”\n",
      "\n",
      "Ruler_15_Dataset.zi 100%[===================>]  45.44M  35.1MB/s    用时 1.3s    \n",
      "\n",
      "2023-04-16 16:43:50 (35.1 MB/s) - 已保存 “Ruler_15_Dataset.zip” [47652385/47652385])\n",
      "\n"
     ]
    }
   ],
   "source": [
    "# 下载数据集\n",
    "!rm -rf Ruler_15_Dataset.zip Ruler_15_Dataset\n",
    "!wget https://zihao-download.obs.cn-east-3.myhuaweicloud.com/yolov8/datasets/Ruler_15_Dataset.zip"
   ]
  },
  {
   "cell_type": "code",
   "execution_count": 18,
   "id": "2d3c481a-abd8-4474-8645-959a0c8c1759",
   "metadata": {},
   "outputs": [],
   "source": [
    "# 解压\n",
    "!unzip Ruler_15_Dataset.zip >> /dev/null\n",
    "\n",
    "# 删除压缩包\n",
    "!rm -rf Ruler_15_Dataset.zip"
   ]
  },
  {
   "cell_type": "code",
   "execution_count": null,
   "id": "85437734-46eb-4cc9-b035-c8be98bca7a0",
   "metadata": {},
   "outputs": [],
   "source": []
  }
 ],
 "metadata": {
  "kernelspec": {
   "display_name": "Python 3 (ipykernel)",
   "language": "python",
   "name": "python3"
  },
  "language_info": {
   "codemirror_mode": {
    "name": "ipython",
    "version": 3
   },
   "file_extension": ".py",
   "mimetype": "text/x-python",
   "name": "python",
   "nbconvert_exporter": "python",
   "pygments_lexer": "ipython3",
   "version": "3.7.10"
  }
 },
 "nbformat": 4,
 "nbformat_minor": 5
}
