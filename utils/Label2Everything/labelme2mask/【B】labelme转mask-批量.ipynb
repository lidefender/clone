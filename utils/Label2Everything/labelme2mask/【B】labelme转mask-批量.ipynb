{
 "cells": [
  {
   "cell_type": "markdown",
   "id": "1db53cc2-af26-403b-8500-8c1b937c1076",
   "metadata": {},
   "source": [
    "# Labelme转mask-批量\n",
    "\n",
    "同济子豪兄 2023-6-8"
   ]
  },
  {
   "cell_type": "markdown",
   "id": "3740a3d5-5bad-44c5-9fc6-f515e3c5596f",
   "metadata": {},
   "source": [
    "## 查看数据集目录结构"
   ]
  },
  {
   "cell_type": "code",
   "id": "25f20f9a-12c1-417d-a5ff-f1842ba8e6c0",
   "metadata": {
    "ExecuteTime": {
     "end_time": "2024-06-27T07:29:45.544318Z",
     "start_time": "2024-06-27T07:29:45.531352Z"
    }
   },
   "source": [
    "import seedir as sd\n",
    "sd.seedir('Watermelon87_Semantic_Seg_Labelme', style='emoji', depthlimit=1)"
   ],
   "outputs": [
    {
     "ename": "ModuleNotFoundError",
     "evalue": "No module named 'seedir'",
     "output_type": "error",
     "traceback": [
      "\u001B[1;31m---------------------------------------------------------------------------\u001B[0m",
      "\u001B[1;31mModuleNotFoundError\u001B[0m                       Traceback (most recent call last)",
      "Cell \u001B[1;32mIn[9], line 1\u001B[0m\n\u001B[1;32m----> 1\u001B[0m \u001B[38;5;28;01mimport\u001B[39;00m \u001B[38;5;21;01mseedir\u001B[39;00m \u001B[38;5;28;01mas\u001B[39;00m \u001B[38;5;21;01msd\u001B[39;00m\n\u001B[0;32m      2\u001B[0m sd\u001B[38;5;241m.\u001B[39mseedir(\u001B[38;5;124m'\u001B[39m\u001B[38;5;124mWatermelon87_Semantic_Seg_Labelme\u001B[39m\u001B[38;5;124m'\u001B[39m, style\u001B[38;5;241m=\u001B[39m\u001B[38;5;124m'\u001B[39m\u001B[38;5;124memoji\u001B[39m\u001B[38;5;124m'\u001B[39m, depthlimit\u001B[38;5;241m=\u001B[39m\u001B[38;5;241m1\u001B[39m)\n",
      "\u001B[1;31mModuleNotFoundError\u001B[0m: No module named 'seedir'"
     ]
    }
   ],
   "execution_count": 9
  },
  {
   "cell_type": "markdown",
   "id": "4ff99cf7-4d42-4054-a7a8-a433f4e246f1",
   "metadata": {},
   "source": [
    "## 进入数据集目录"
   ]
  },
  {
   "cell_type": "code",
   "id": "0760c2f6-b0f5-4111-b70a-921e30ca3957",
   "metadata": {
    "ExecuteTime": {
     "end_time": "2024-06-30T01:41:22.699593Z",
     "start_time": "2024-06-30T01:41:22.689771Z"
    }
   },
   "source": [
    "import os\n",
    "import json\n",
    "import numpy as np\n",
    "import cv2\n",
    "import shutil\n",
    "\n",
    "from tqdm import tqdm"
   ],
   "outputs": [],
   "execution_count": 4
  },
  {
   "cell_type": "markdown",
   "id": "6254a685-2d79-4406-a103-4e3729212b66",
   "metadata": {},
   "source": [
    "## 数据集及类别信息"
   ]
  },
  {
   "metadata": {
    "ExecuteTime": {
     "end_time": "2024-06-27T07:29:45.607414Z",
     "start_time": "2024-06-27T07:29:45.602457Z"
    }
   },
   "cell_type": "code",
   "source": "os.getcwd()",
   "id": "69b4ff328905c8b4",
   "outputs": [
    {
     "data": {
      "text/plain": [
       "'F:\\\\work\\\\python\\\\clone\\\\utils\\\\Label2Everything\\\\labelme2mask'"
      ]
     },
     "execution_count": 11,
     "metadata": {},
     "output_type": "execute_result"
    }
   ],
   "execution_count": 11
  },
  {
   "cell_type": "code",
   "id": "fe93bf2f-3ac7-4570-a0ae-73703fa83221",
   "metadata": {
    "ExecuteTime": {
     "end_time": "2024-06-27T07:29:45.613862Z",
     "start_time": "2024-06-27T07:29:45.607414Z"
    }
   },
   "source": "Dataset_Path = r'F:\\work\\python\\clone\\dataset\\rebar2d' # 数据集路径    ",
   "outputs": [],
   "execution_count": 12
  },
  {
   "cell_type": "markdown",
   "id": "df36586d-0c8d-4041-877e-05ec3bde5c9b",
   "metadata": {},
   "source": [
    "## 每个类别的信息及画mask的顺序（按照由大到小，由粗到精的顺序）"
   ]
  },
  {
   "cell_type": "code",
   "id": "ed22f2fc-e0d4-45c8-8184-4cf8007901ea",
   "metadata": {
    "ExecuteTime": {
     "end_time": "2024-06-27T07:29:45.633293Z",
     "start_time": "2024-06-27T07:29:45.630333Z"
    }
   },
   "source": [
    "# 0-背景，从 1 开始\n",
    "class_info = [\n",
    "    {'label':'rebar', 'type':'polygon', 'color':1},                    # polygon 多段线\n",
    "\n",
    "]"
   ],
   "outputs": [],
   "execution_count": 13
  },
  {
   "metadata": {
    "ExecuteTime": {
     "end_time": "2024-06-27T07:29:45.650292Z",
     "start_time": "2024-06-27T07:29:45.647301Z"
    }
   },
   "cell_type": "code",
   "source": "",
   "id": "4aa10c49a65020e",
   "outputs": [],
   "execution_count": 13
  },
  {
   "metadata": {
    "ExecuteTime": {
     "end_time": "2024-06-27T07:29:45.730616Z",
     "start_time": "2024-06-27T07:29:45.657294Z"
    }
   },
   "cell_type": "code",
   "source": [
    "img_bgr = cv2.imread(os.path.join(Dataset_Path, 'images', 'Image_20240622152006003.jpg'))\n",
    "\n",
    "print(os.path.join(Dataset_Path, 'images', 'Image_20240622152006003.jpg'))\n",
    "img_mask = np.zeros(img_bgr.shape[:2]) # 创建空白图像 0-背景\n",
    "\n",
    "print(img_bgr.shape)\n",
    "img_mask2=cv2.imread(r\"F:\\work\\python\\clone\\dataset\\rebar2d\\mask\\Image_20240622152540884.png\")\n",
    "print(img_mask2.shape)"
   ],
   "id": "761389910c488613",
   "outputs": [
    {
     "name": "stdout",
     "output_type": "stream",
     "text": [
      "F:\\work\\python\\clone\\dataset\\rebar2d\\images\\Image_20240622152006003.jpg\n",
      "(2048, 3072, 3)\n",
      "(2048, 3072, 3)\n"
     ]
    }
   ],
   "execution_count": 14
  },
  {
   "metadata": {
    "ExecuteTime": {
     "end_time": "2024-06-27T07:29:45.734412Z",
     "start_time": "2024-06-27T07:29:45.731596Z"
    }
   },
   "cell_type": "code",
   "source": "",
   "id": "b8ebdedb6e4d2df6",
   "outputs": [],
   "execution_count": 14
  },
  {
   "cell_type": "markdown",
   "id": "8c9ff801-0e6d-4ae7-84d1-e501ba73d9a8",
   "metadata": {},
   "source": [
    "## 单张图像labelme转mask函数"
   ]
  },
  {
   "cell_type": "code",
   "id": "cf1f8fc4-3acf-4dd3-b159-29d29ce4d7d5",
   "metadata": {
    "ExecuteTime": {
     "end_time": "2024-06-30T01:37:05.584126Z",
     "start_time": "2024-06-30T01:37:05.576676Z"
    }
   },
   "source": [
    "def labelme2mask_single_img(img_path, labelme_json_path):\n",
    "    '''\n",
    "    输入原始图像路径和labelme标注路径，输出 mask\n",
    "    '''\n",
    "    \n",
    "    img_bgr = cv2.imread(img_path)\n",
    "    img_mask = np.zeros(img_bgr.shape[:2]) # 创建空白图像 0-背景\n",
    "    \n",
    "    with open(labelme_json_path, 'r', encoding='utf-8') as f:\n",
    "        labelme = json.load(f)\n",
    "        \n",
    "    for one_class in class_info: # 按顺序遍历每一个类别\n",
    "        for each in labelme['shapes']: # 遍历所有标注，找到属于当前类别的标注\n",
    "            if each['label'] == one_class['label']:\n",
    "                if one_class['type'] == 'polygon': # polygon 多段线标注\n",
    "\n",
    "                    # 获取点的坐标\n",
    "                    points = [np.array(each['points'], dtype=np.int32).reshape((-1, 1, 2))]\n",
    "\n",
    "                    # 在空白图上画 mask（闭合区域）\n",
    "                    img_mask = cv2.fillPoly(img_mask, points, color=one_class['color'])\n",
    "\n",
    "                elif one_class['type'] == 'line' or one_class['type'] == 'linestrip': # line 或者 linestrip 线段标注\n",
    "\n",
    "                    # 获取点的坐标\n",
    "                    points = [np.array(each['points'], dtype=np.int32).reshape((-1, 1, 2))]\n",
    "\n",
    "                    # 在空白图上画 mask（非闭合区域）\n",
    "                    img_mask = cv2.polylines(img_mask, points, isClosed=False, color=one_class['color'], thickness=one_class['thickness']) \n",
    "\n",
    "                elif one_class['type'] == 'circle': # circle 圆形标注\n",
    "\n",
    "                    points = np.array(each['points'], dtype=np.int32)\n",
    "\n",
    "                    center_x, center_y = points[0][0], points[0][1] # 圆心点坐标\n",
    "\n",
    "                    edge_x, edge_y = points[1][0], points[1][1]     # 圆周点坐标\n",
    "\n",
    "                    radius = np.linalg.norm(np.array([center_x, center_y] - np.array([edge_x, edge_y]))).astype('uint32') # 半径\n",
    "\n",
    "                    img_mask = cv2.circle(img_mask, (center_x, center_y), radius, one_class['color'], one_class['thickness'])\n",
    "\n",
    "                else:\n",
    "                    print('未知标注类型', one_class['type'])\n",
    "                    \n",
    "    return img_mask"
   ],
   "outputs": [],
   "execution_count": 1
  },
  {
   "metadata": {
    "ExecuteTime": {
     "end_time": "2024-06-30T01:41:30.546188Z",
     "start_time": "2024-06-30T01:41:26.800301Z"
    }
   },
   "cell_type": "code",
   "source": [
    "import cv2\n",
    "import numpy as np\n",
    "import os\n",
    "import json\n",
    "from PIL import Image\n",
    "\n",
    "def labelme2mask_single_img(img_path, labelme_json_path):\n",
    "    '''\n",
    "    输入原始图像路径和labelme标注路径，输出单通道灰度 mask\n",
    "    '''\n",
    "    \n",
    "    img_bgr = cv2.imread(img_path)\n",
    "    img_mask = np.zeros(img_bgr.shape[:2], dtype=np.uint8) # 创建单通道空白图像\n",
    "    \n",
    "    with open(labelme_json_path, 'r', encoding='utf-8') as f:\n",
    "        labelme = json.load(f)\n",
    "        \n",
    "    for one_class in class_info: # 按顺序遍历每一个类别\n",
    "        for each in labelme['shapes']: # 遍历所有标注，找到属于当前类别的标注\n",
    "            if each['label'] == one_class['label']:\n",
    "                if one_class['type'] == 'polygon': # polygon 多段线标注\n",
    "\n",
    "                    # 获取点的坐标\n",
    "                    points = [np.array(each['points'], dtype=np.int32).reshape((-1, 1, 2))]\n",
    "\n",
    "                    # 在空白图上画 mask（闭合区域）\n",
    "                    img_mask = cv2.fillPoly(img_mask, points, color=one_class['color'])\n",
    "\n",
    "                elif one_class['type'] == 'line' or one_class['type'] == 'linestrip': # line 或者 linestrip 线段标注\n",
    "\n",
    "                    # 获取点的坐标\n",
    "                    points = [np.array(each['points'], dtype=np.int32).reshape((-1, 1, 2))]\n",
    "\n",
    "                    # 在空白图上画 mask（非闭合区域）\n",
    "                    img_mask = cv2.polylines(img_mask, points, isClosed=False, color=one_class['color'], thickness=one_class['thickness']) \n",
    "\n",
    "                elif one_class['type'] == 'circle': # circle 圆形标注\n",
    "\n",
    "                    points = np.array(each['points'], dtype=np.int32)\n",
    "\n",
    "                    center_x, center_y = points[0][0], points[0][1] # 圆心点坐标\n",
    "\n",
    "                    edge_x, edge_y = points[1][0], points[1][1]     # 圆周点坐标\n",
    "\n",
    "                    radius = np.linalg.norm(np.array([center_x, center_y] - np.array([edge_x, edge_y]))).astype('uint32') # 半径\n",
    "\n",
    "                    img_mask = cv2.circle(img_mask, (center_x, center_y), radius, one_class['color'], one_class['thickness'])\n",
    "\n",
    "                else:\n",
    "                    print('未知标注类型', one_class['type'])\n",
    "                    \n",
    "    return img_mask\n",
    "\n",
    "Dataset_Path = r'F:\\work\\python\\clone\\dataset\\rebar2d' # 数据集路径    \n",
    "os.chdir(r\"F:\\work\\dataset\\rebar2D\\train\\TEMP\")\n",
    "for img_path in tqdm(os.listdir()):\n",
    "    \n",
    "    try:\n",
    "    \n",
    "        labelme_json_path = os.path.join(Dataset_Path, 'labelme_jsons', '.'.join(img_path.split('.')[:-1])+'.json')\n",
    "\n",
    "        img_mask = labelme2mask_single_img(img_path, labelme_json_path)\n",
    "\n",
    "        mask_path = img_path.split('.')[0] + '.png'\n",
    "\n",
    "        # 将单通道灰度图像保存\n",
    "        cv2.imwrite(os.path.join('../','mask',mask_path), img_mask)\n",
    "    \n",
    "    except Exception as E:\n",
    "        print(img_path, '转换失败', E)\n",
    "img_mask2=Image.open(r\"F:\\work\\python\\clone\\dataset\\rebar2d\\mask\\Image_20240622152022155.png\")\n",
    "print(img_mask2.size)"
   ],
   "id": "13328f95980f4dd3",
   "outputs": [
    {
     "name": "stderr",
     "output_type": "stream",
     "text": [
      "  5%|▍         | 15/301 [00:00<00:03, 72.86it/s]"
     ]
    },
    {
     "name": "stdout",
     "output_type": "stream",
     "text": [
      "Image_20240622152006003.png 转换失败 name 'class_info' is not defined\n",
      "Image_20240622152022155.json 转换失败 'NoneType' object has no attribute 'shape'\n",
      "Image_20240622152022155.png 转换失败 name 'class_info' is not defined\n",
      "Image_20240622152027051.json 转换失败 'NoneType' object has no attribute 'shape'\n",
      "Image_20240622152027051.png 转换失败 name 'class_info' is not defined\n",
      "Image_20240622152032646.json 转换失败 'NoneType' object has no attribute 'shape'\n",
      "Image_20240622152032646.png 转换失败 name 'class_info' is not defined\n",
      "Image_20240622152038023.json 转换失败 'NoneType' object has no attribute 'shape'\n",
      "Image_20240622152038023.png 转换失败 name 'class_info' is not defined\n",
      "Image_20240622152043066.json 转换失败 'NoneType' object has no attribute 'shape'\n",
      "Image_20240622152043066.png 转换失败 name 'class_info' is not defined\n",
      "Image_20240622152049220.json 转换失败 'NoneType' object has no attribute 'shape'\n",
      "Image_20240622152049220.png 转换失败 name 'class_info' is not defined\n",
      "Image_20240622152054365.json 转换失败 'NoneType' object has no attribute 'shape'\n",
      "Image_20240622152054365.png 转换失败 name 'class_info' is not defined\n",
      "Image_20240622152100108.json 转换失败 'NoneType' object has no attribute 'shape'\n",
      "Image_20240622152100108.png 转换失败 name 'class_info' is not defined\n",
      "Image_20240622152105224.json 转换失败 'NoneType' object has no attribute 'shape'\n",
      "Image_20240622152105224.png 转换失败 name 'class_info' is not defined\n"
     ]
    },
    {
     "name": "stderr",
     "output_type": "stream",
     "text": [
      " 11%|█         | 33/301 [00:00<00:03, 79.77it/s]"
     ]
    },
    {
     "name": "stdout",
     "output_type": "stream",
     "text": [
      "Image_20240622152110857.json 转换失败 'NoneType' object has no attribute 'shape'\n",
      "Image_20240622152110857.png 转换失败 name 'class_info' is not defined\n",
      "Image_20240622152117110.json 转换失败 'NoneType' object has no attribute 'shape'\n",
      "Image_20240622152117110.png 转换失败 name 'class_info' is not defined\n",
      "Image_20240622152138391.json 转换失败 'NoneType' object has no attribute 'shape'\n",
      "Image_20240622152138391.png 转换失败 name 'class_info' is not defined\n",
      "Image_20240622152201002.json 转换失败 'NoneType' object has no attribute 'shape'\n",
      "Image_20240622152201002.png 转换失败 name 'class_info' is not defined\n",
      "Image_20240622152327307.json 转换失败 'NoneType' object has no attribute 'shape'\n",
      "Image_20240622152327307.png 转换失败 name 'class_info' is not defined\n",
      "Image_20240622152413746.json 转换失败 'NoneType' object has no attribute 'shape'\n",
      "Image_20240622152413746.png 转换失败 name 'class_info' is not defined\n",
      "Image_20240622152525162.json 转换失败 'NoneType' object has no attribute 'shape'\n",
      "Image_20240622152525162.png 转换失败 name 'class_info' is not defined\n",
      "Image_20240622152527929.json 转换失败 'NoneType' object has no attribute 'shape'\n",
      "Image_20240622152527929.png 转换失败 name 'class_info' is not defined\n",
      "Image_20240622152530118.json 转换失败 'NoneType' object has no attribute 'shape'\n"
     ]
    },
    {
     "name": "stderr",
     "output_type": "stream",
     "text": [
      " 16%|█▋        | 49/301 [00:00<00:03, 75.35it/s]"
     ]
    },
    {
     "name": "stdout",
     "output_type": "stream",
     "text": [
      "Image_20240622152530118.png 转换失败 name 'class_info' is not defined\n",
      "Image_20240622152532671.json 转换失败 'NoneType' object has no attribute 'shape'\n",
      "Image_20240622152532671.png 转换失败 name 'class_info' is not defined\n",
      "Image_20240622152535159.json 转换失败 'NoneType' object has no attribute 'shape'\n",
      "Image_20240622152535159.png 转换失败 name 'class_info' is not defined\n",
      "Image_20240622152537569.json 转换失败 'NoneType' object has no attribute 'shape'\n",
      "Image_20240622152537569.png 转换失败 name 'class_info' is not defined\n",
      "Image_20240622152540884.json 转换失败 'NoneType' object has no attribute 'shape'\n",
      "Image_20240622152540884.png 转换失败 name 'class_info' is not defined\n",
      "Image_20240622152552400.json 转换失败 'NoneType' object has no attribute 'shape'\n",
      "Image_20240622152552400.png 转换失败 name 'class_info' is not defined\n",
      "Image_20240622152555962.json 转换失败 'NoneType' object has no attribute 'shape'\n",
      "Image_20240622152555962.png 转换失败 name 'class_info' is not defined\n",
      "Image_20240622152559960.json 转换失败 'NoneType' object has no attribute 'shape'\n",
      "Image_20240622152559960.png 转换失败 name 'class_info' is not defined\n",
      "Image_20240622152602787.json 转换失败 'NoneType' object has no attribute 'shape'\n"
     ]
    },
    {
     "name": "stderr",
     "output_type": "stream",
     "text": [
      " 22%|██▏       | 67/301 [00:00<00:03, 76.92it/s]"
     ]
    },
    {
     "name": "stdout",
     "output_type": "stream",
     "text": [
      "Image_20240622152602787.png 转换失败 name 'class_info' is not defined\n",
      "Image_20240622152606947.json 转换失败 'NoneType' object has no attribute 'shape'\n",
      "Image_20240622152606947.png 转换失败 name 'class_info' is not defined\n",
      "Image_20240622152609327.json 转换失败 'NoneType' object has no attribute 'shape'\n",
      "Image_20240622152609327.png 转换失败 name 'class_info' is not defined\n",
      "Image_20240622152612356.json 转换失败 'NoneType' object has no attribute 'shape'\n",
      "Image_20240622152612356.png 转换失败 name 'class_info' is not defined\n",
      "Image_20240622152614649.json 转换失败 'NoneType' object has no attribute 'shape'\n",
      "Image_20240622152614649.png 转换失败 name 'class_info' is not defined\n",
      "Image_20240622152624069.json 转换失败 'NoneType' object has no attribute 'shape'\n",
      "Image_20240622152624069.png 转换失败 name 'class_info' is not defined\n",
      "Image_20240622152628099.json 转换失败 'NoneType' object has no attribute 'shape'\n",
      "Image_20240622152628099.png 转换失败 name 'class_info' is not defined\n",
      "Image_20240622152631231.json 转换失败 'NoneType' object has no attribute 'shape'\n",
      "Image_20240622152631231.png 转换失败 name 'class_info' is not defined\n",
      "Image_20240622152634116.json 转换失败 'NoneType' object has no attribute 'shape'\n",
      "Image_20240622152634116.png 转换失败 name 'class_info' is not defined\n",
      "Image_20240622152637110.json 转换失败 'NoneType' object has no attribute 'shape'\n"
     ]
    },
    {
     "name": "stderr",
     "output_type": "stream",
     "text": [
      " 29%|██▉       | 87/301 [00:01<00:02, 81.33it/s]"
     ]
    },
    {
     "name": "stdout",
     "output_type": "stream",
     "text": [
      "Image_20240622152637110.png 转换失败 name 'class_info' is not defined\n",
      "Image_20240622152639961.json 转换失败 'NoneType' object has no attribute 'shape'\n",
      "Image_20240622152639961.png 转换失败 name 'class_info' is not defined\n",
      "Image_20240622152642626.json 转换失败 'NoneType' object has no attribute 'shape'\n",
      "Image_20240622152642626.png 转换失败 name 'class_info' is not defined\n",
      "Image_20240622152645923.json 转换失败 'NoneType' object has no attribute 'shape'\n",
      "Image_20240622152645923.png 转换失败 name 'class_info' is not defined\n",
      "Image_20240622152648476.json 转换失败 'NoneType' object has no attribute 'shape'\n",
      "Image_20240622152648476.png 转换失败 name 'class_info' is not defined\n",
      "Image_20240622152651019.json 转换失败 'NoneType' object has no attribute 'shape'\n",
      "Image_20240622152651019.png 转换失败 name 'class_info' is not defined\n",
      "Image_20240622152653778.json 转换失败 'NoneType' object has no attribute 'shape'\n",
      "Image_20240622152653778.png 转换失败 name 'class_info' is not defined\n",
      "Image_20240622152656210.json 转换失败 'NoneType' object has no attribute 'shape'\n",
      "Image_20240622152656210.png 转换失败 name 'class_info' is not defined\n",
      "Image_20240622152658379.json 转换失败 'NoneType' object has no attribute 'shape'\n",
      "Image_20240622152658379.png 转换失败 name 'class_info' is not defined\n"
     ]
    },
    {
     "name": "stderr",
     "output_type": "stream",
     "text": [
      " 32%|███▏      | 97/301 [00:01<00:02, 83.07it/s]"
     ]
    },
    {
     "name": "stdout",
     "output_type": "stream",
     "text": [
      "Image_20240622152700696.json 转换失败 'NoneType' object has no attribute 'shape'\n",
      "Image_20240622152700696.png 转换失败 name 'class_info' is not defined\n",
      "Image_20240622153200523.json 转换失败 'NoneType' object has no attribute 'shape'\n",
      "Image_20240622153200523.png 转换失败 name 'class_info' is not defined\n",
      "Image_20240622153209279.json 转换失败 'NoneType' object has no attribute 'shape'\n",
      "Image_20240622153209279.png 转换失败 name 'class_info' is not defined\n",
      "Image_20240622153212685.json 转换失败 'NoneType' object has no attribute 'shape'\n",
      "Image_20240622153212685.png 转换失败 name 'class_info' is not defined\n",
      "Image_20240622153214873.json 转换失败 'NoneType' object has no attribute 'shape'\n",
      "Image_20240622153214873.png 转换失败 name 'class_info' is not defined\n",
      "Image_20240622153218585.json 转换失败 'NoneType' object has no attribute 'shape'\n",
      "Image_20240622153218585.png 转换失败 name 'class_info' is not defined\n",
      "Image_20240622153221036.json 转换失败 'NoneType' object has no attribute 'shape'\n",
      "Image_20240622153221036.png 转换失败 name 'class_info' is not defined\n",
      "Image_20240622153223271.json 转换失败 'NoneType' object has no attribute 'shape'\n",
      "Image_20240622153223271.png 转换失败 name 'class_info' is not defined\n",
      "Image_20240622153226221.json 转换失败 'NoneType' object has no attribute 'shape'\n"
     ]
    },
    {
     "name": "stderr",
     "output_type": "stream",
     "text": [
      " 39%|███▉      | 117/301 [00:01<00:02, 84.05it/s]"
     ]
    },
    {
     "name": "stdout",
     "output_type": "stream",
     "text": [
      "Image_20240622153226221.png 转换失败 name 'class_info' is not defined\n",
      "Image_20240622153251975.json 转换失败 'NoneType' object has no attribute 'shape'\n",
      "Image_20240622153251975.png 转换失败 name 'class_info' is not defined\n",
      "Image_20240622153254754.json 转换失败 'NoneType' object has no attribute 'shape'\n",
      "Image_20240622153254754.png 转换失败 name 'class_info' is not defined\n",
      "Image_20240622153257949.json 转换失败 'NoneType' object has no attribute 'shape'\n",
      "Image_20240622153257949.png 转换失败 name 'class_info' is not defined\n",
      "Image_20240622153650303.json 转换失败 'NoneType' object has no attribute 'shape'\n",
      "Image_20240622153650303.png 转换失败 name 'class_info' is not defined\n",
      "Image_20240622153653586.json 转换失败 'NoneType' object has no attribute 'shape'\n",
      "Image_20240622153653586.png 转换失败 name 'class_info' is not defined\n",
      "Image_20240622153656245.json 转换失败 'NoneType' object has no attribute 'shape'\n",
      "Image_20240622153656245.png 转换失败 name 'class_info' is not defined\n",
      "Image_20240622153700003.json 转换失败 'NoneType' object has no attribute 'shape'\n",
      "Image_20240622153700003.png 转换失败 name 'class_info' is not defined\n",
      "Image_20240622154405623.json 转换失败 'NoneType' object has no attribute 'shape'\n",
      "Image_20240622154405623.png 转换失败 name 'class_info' is not defined\n",
      "Image_20240622154413899.json 转换失败 'NoneType' object has no attribute 'shape'\n"
     ]
    },
    {
     "name": "stderr",
     "output_type": "stream",
     "text": [
      " 46%|████▌     | 137/301 [00:01<00:01, 84.50it/s]"
     ]
    },
    {
     "name": "stdout",
     "output_type": "stream",
     "text": [
      "Image_20240622154413899.png 转换失败 name 'class_info' is not defined\n",
      "Image_20240622154418470.json 转换失败 'NoneType' object has no attribute 'shape'\n",
      "Image_20240622154418470.png 转换失败 name 'class_info' is not defined\n",
      "Image_20240622154424228.json 转换失败 'NoneType' object has no attribute 'shape'\n",
      "Image_20240622154424228.png 转换失败 name 'class_info' is not defined\n",
      "Image_20240622154427379.json 转换失败 'NoneType' object has no attribute 'shape'\n",
      "Image_20240622154427379.png 转换失败 name 'class_info' is not defined\n",
      "Image_20240622154433081.json 转换失败 'NoneType' object has no attribute 'shape'\n",
      "Image_20240622154433081.png 转换失败 name 'class_info' is not defined\n",
      "Image_20240622154435984.json 转换失败 'NoneType' object has no attribute 'shape'\n",
      "Image_20240622154435984.png 转换失败 name 'class_info' is not defined\n",
      "Image_20240622154446120.json 转换失败 'NoneType' object has no attribute 'shape'\n",
      "Image_20240622154446120.png 转换失败 name 'class_info' is not defined\n",
      "Image_20240622154601873.json 转换失败 'NoneType' object has no attribute 'shape'\n",
      "Image_20240622154601873.png 转换失败 name 'class_info' is not defined\n",
      "Image_20240622154620468.json 转换失败 'NoneType' object has no attribute 'shape'\n",
      "Image_20240622154620468.png 转换失败 name 'class_info' is not defined\n",
      "Image_20240622154623657.json 转换失败 'NoneType' object has no attribute 'shape'\n"
     ]
    },
    {
     "name": "stderr",
     "output_type": "stream",
     "text": [
      " 52%|█████▏    | 157/301 [00:01<00:01, 85.93it/s]"
     ]
    },
    {
     "name": "stdout",
     "output_type": "stream",
     "text": [
      "Image_20240622154623657.png 转换失败 name 'class_info' is not defined\n",
      "Image_20240622154626429.json 转换失败 'NoneType' object has no attribute 'shape'\n",
      "Image_20240622154626429.png 转换失败 name 'class_info' is not defined\n",
      "Image_20240622154631970.json 转换失败 'NoneType' object has no attribute 'shape'\n",
      "Image_20240622154631970.png 转换失败 name 'class_info' is not defined\n",
      "Image_20240622154639550.json 转换失败 'NoneType' object has no attribute 'shape'\n",
      "Image_20240622154639550.png 转换失败 name 'class_info' is not defined\n",
      "Image_20240622154641938.json 转换失败 'NoneType' object has no attribute 'shape'\n",
      "Image_20240622154641938.png 转换失败 name 'class_info' is not defined\n",
      "Image_20240622154646176.json 转换失败 'NoneType' object has no attribute 'shape'\n",
      "Image_20240622154646176.png 转换失败 name 'class_info' is not defined\n",
      "Image_20240622154649319.json 转换失败 'NoneType' object has no attribute 'shape'\n",
      "Image_20240622154649319.png 转换失败 name 'class_info' is not defined\n",
      "Image_20240622154651792.json 转换失败 'NoneType' object has no attribute 'shape'\n",
      "Image_20240622154651792.png 转换失败 name 'class_info' is not defined\n",
      "Image_20240622154654311.json 转换失败 'NoneType' object has no attribute 'shape'\n",
      "Image_20240622154654311.png 转换失败 name 'class_info' is not defined\n"
     ]
    },
    {
     "name": "stderr",
     "output_type": "stream",
     "text": [
      " 55%|█████▌    | 167/301 [00:02<00:01, 86.96it/s]"
     ]
    },
    {
     "name": "stdout",
     "output_type": "stream",
     "text": [
      "Image_20240622154658031.json 转换失败 'NoneType' object has no attribute 'shape'\n",
      "Image_20240622154658031.png 转换失败 name 'class_info' is not defined\n",
      "Image_20240622154706390.json 转换失败 'NoneType' object has no attribute 'shape'\n",
      "Image_20240622154706390.png 转换失败 name 'class_info' is not defined\n",
      "Image_20240622154709489.json 转换失败 'NoneType' object has no attribute 'shape'\n",
      "Image_20240622154709489.png 转换失败 name 'class_info' is not defined\n",
      "Image_20240622154712309.json 转换失败 'NoneType' object has no attribute 'shape'\n",
      "Image_20240622154712309.png 转换失败 name 'class_info' is not defined\n",
      "Image_20240622154812990.json 转换失败 'NoneType' object has no attribute 'shape'\n",
      "Image_20240622154812990.png 转换失败 name 'class_info' is not defined\n",
      "Image_20240622154819654.json 转换失败 'NoneType' object has no attribute 'shape'\n",
      "Image_20240622154819654.png 转换失败 name 'class_info' is not defined\n",
      "Image_20240622154821973.json 转换失败 'NoneType' object has no attribute 'shape'\n",
      "Image_20240622154821973.png 转换失败 name 'class_info' is not defined\n",
      "Image_20240622154827145.json 转换失败 'NoneType' object has no attribute 'shape'\n",
      "Image_20240622154827145.png 转换失败 name 'class_info' is not defined\n",
      "Image_20240622154832033.json 转换失败 'NoneType' object has no attribute 'shape'\n",
      "Image_20240622154832033.png 转换失败 name 'class_info' is not defined\n",
      "Image_20240622154836747.json 转换失败 'NoneType' object has no attribute 'shape'\n"
     ]
    },
    {
     "name": "stderr",
     "output_type": "stream",
     "text": [
      " 62%|██████▏   | 187/301 [00:02<00:01, 86.32it/s]"
     ]
    },
    {
     "name": "stdout",
     "output_type": "stream",
     "text": [
      "Image_20240622154836747.png 转换失败 name 'class_info' is not defined\n",
      "Image_20240622154848851.json 转换失败 'NoneType' object has no attribute 'shape'\n",
      "Image_20240622154848851.png 转换失败 name 'class_info' is not defined\n",
      "Image_20240622154851267.json 转换失败 'NoneType' object has no attribute 'shape'\n",
      "Image_20240622154851267.png 转换失败 name 'class_info' is not defined\n",
      "Image_20240622154857968.json 转换失败 'NoneType' object has no attribute 'shape'\n",
      "Image_20240622154857968.png 转换失败 name 'class_info' is not defined\n",
      "Image_20240622154900145.json 转换失败 'NoneType' object has no attribute 'shape'\n",
      "Image_20240622154900145.png 转换失败 name 'class_info' is not defined\n",
      "Image_20240622154903985.json 转换失败 'NoneType' object has no attribute 'shape'\n",
      "Image_20240622154903985.png 转换失败 name 'class_info' is not defined\n",
      "Image_20240622154906938.json 转换失败 'NoneType' object has no attribute 'shape'\n",
      "Image_20240622154906938.png 转换失败 name 'class_info' is not defined\n",
      "Image_20240622154910728.json 转换失败 'NoneType' object has no attribute 'shape'\n",
      "Image_20240622154910728.png 转换失败 name 'class_info' is not defined\n",
      "Image_20240622154916381.json 转换失败 'NoneType' object has no attribute 'shape'\n",
      "Image_20240622154916381.png 转换失败 name 'class_info' is not defined\n",
      "Image_20240622155007334.json 转换失败 'NoneType' object has no attribute 'shape'\n"
     ]
    },
    {
     "name": "stderr",
     "output_type": "stream",
     "text": [
      " 69%|██████▉   | 207/301 [00:02<00:01, 86.37it/s]"
     ]
    },
    {
     "name": "stdout",
     "output_type": "stream",
     "text": [
      "Image_20240622155007334.png 转换失败 name 'class_info' is not defined\n",
      "Image_20240622155016309.json 转换失败 'NoneType' object has no attribute 'shape'\n",
      "Image_20240622155016309.png 转换失败 name 'class_info' is not defined\n",
      "Image_20240622155021647.json 转换失败 'NoneType' object has no attribute 'shape'\n",
      "Image_20240622155021647.png 转换失败 name 'class_info' is not defined\n",
      "Image_20240622155029176.json 转换失败 'NoneType' object has no attribute 'shape'\n",
      "Image_20240622155029176.png 转换失败 name 'class_info' is not defined\n",
      "Image_20240622155032006.json 转换失败 'NoneType' object has no attribute 'shape'\n",
      "Image_20240622155032006.png 转换失败 name 'class_info' is not defined\n",
      "Image_20240622155034689.json 转换失败 'NoneType' object has no attribute 'shape'\n",
      "Image_20240622155034689.png 转换失败 name 'class_info' is not defined\n",
      "Image_20240622155038553.json 转换失败 'NoneType' object has no attribute 'shape'\n",
      "Image_20240622155038553.png 转换失败 name 'class_info' is not defined\n",
      "Image_20240622155041962.json 转换失败 'NoneType' object has no attribute 'shape'\n",
      "Image_20240622155041962.png 转换失败 name 'class_info' is not defined\n",
      "Image_20240622155044252.json 转换失败 'NoneType' object has no attribute 'shape'\n",
      "Image_20240622155044252.png 转换失败 name 'class_info' is not defined\n",
      "Image_20240622155046691.json 转换失败 'NoneType' object has no attribute 'shape'\n"
     ]
    },
    {
     "name": "stderr",
     "output_type": "stream",
     "text": [
      " 75%|███████▌  | 227/301 [00:02<00:00, 83.42it/s]"
     ]
    },
    {
     "name": "stdout",
     "output_type": "stream",
     "text": [
      "Image_20240622155046691.png 转换失败 name 'class_info' is not defined\n",
      "Image_20240622155050622.json 转换失败 'NoneType' object has no attribute 'shape'\n",
      "Image_20240622155050622.png 转换失败 name 'class_info' is not defined\n",
      "Image_20240622155053314.json 转换失败 'NoneType' object has no attribute 'shape'\n",
      "Image_20240622155053314.png 转换失败 name 'class_info' is not defined\n",
      "Image_20240622155056422.json 转换失败 'NoneType' object has no attribute 'shape'\n",
      "Image_20240622155056422.png 转换失败 name 'class_info' is not defined\n",
      "Image_20240622155059256.json 转换失败 'NoneType' object has no attribute 'shape'\n",
      "Image_20240622155059256.png 转换失败 name 'class_info' is not defined\n",
      "Image_20240622155111106.json 转换失败 'NoneType' object has no attribute 'shape'\n",
      "Image_20240622155111106.png 转换失败 name 'class_info' is not defined\n",
      "Image_20240622155114550.json 转换失败 'NoneType' object has no attribute 'shape'\n",
      "Image_20240622155114550.png 转换失败 name 'class_info' is not defined\n",
      "Image_20240622155118711.json 转换失败 'NoneType' object has no attribute 'shape'\n",
      "Image_20240622155118711.png 转换失败 name 'class_info' is not defined\n",
      "Image_20240622155122322.json 转换失败 'NoneType' object has no attribute 'shape'\n",
      "Image_20240622155122322.png 转换失败 name 'class_info' is not defined\n",
      "Image_20240622155125003.json 转换失败 'NoneType' object has no attribute 'shape'\n"
     ]
    },
    {
     "name": "stderr",
     "output_type": "stream",
     "text": [
      " 81%|████████▏ | 245/301 [00:02<00:00, 79.69it/s]"
     ]
    },
    {
     "name": "stdout",
     "output_type": "stream",
     "text": [
      "Image_20240622155125003.png 转换失败 name 'class_info' is not defined\n",
      "Image_20240622155143140.json 转换失败 'NoneType' object has no attribute 'shape'\n",
      "Image_20240622155143140.png 转换失败 name 'class_info' is not defined\n",
      "Image_20240622155150771.json 转换失败 'NoneType' object has no attribute 'shape'\n",
      "Image_20240622155150771.png 转换失败 name 'class_info' is not defined\n",
      "Image_20240622155153563.json 转换失败 'NoneType' object has no attribute 'shape'\n",
      "Image_20240622155153563.png 转换失败 name 'class_info' is not defined\n",
      "Image_20240622155159115.json 转换失败 'NoneType' object has no attribute 'shape'\n",
      "Image_20240622155159115.png 转换失败 name 'class_info' is not defined\n",
      "Image_20240622155217456.json 转换失败 'NoneType' object has no attribute 'shape'\n",
      "Image_20240622155217456.png 转换失败 name 'class_info' is not defined\n",
      "Image_20240622155222760.json 转换失败 'NoneType' object has no attribute 'shape'\n",
      "Image_20240622155222760.png 转换失败 name 'class_info' is not defined\n",
      "Image_20240622155227334.json 转换失败 'NoneType' object has no attribute 'shape'\n",
      "Image_20240622155227334.png 转换失败 name 'class_info' is not defined\n",
      "Image_20240622155232385.json 转换失败 'NoneType' object has no attribute 'shape'\n",
      "Image_20240622155232385.png 转换失败 name 'class_info' is not defined\n",
      "Image_20240622155236881.json 转换失败 'NoneType' object has no attribute 'shape'\n"
     ]
    },
    {
     "name": "stderr",
     "output_type": "stream",
     "text": [
      " 87%|████████▋ | 261/301 [00:03<00:00, 78.92it/s]"
     ]
    },
    {
     "name": "stdout",
     "output_type": "stream",
     "text": [
      "Image_20240622155236881.png 转换失败 name 'class_info' is not defined\n",
      "Image_20240622155242684.json 转换失败 'NoneType' object has no attribute 'shape'\n",
      "Image_20240622155242684.png 转换失败 name 'class_info' is not defined\n",
      "Image_20240622155245361.json 转换失败 'NoneType' object has no attribute 'shape'\n",
      "Image_20240622155245361.png 转换失败 name 'class_info' is not defined\n",
      "Image_20240622155449132.json 转换失败 'NoneType' object has no attribute 'shape'\n",
      "Image_20240622155449132.png 转换失败 name 'class_info' is not defined\n",
      "Image_20240622155453216.json 转换失败 'NoneType' object has no attribute 'shape'\n",
      "Image_20240622155453216.png 转换失败 name 'class_info' is not defined\n",
      "Image_20240622155455613.json 转换失败 'NoneType' object has no attribute 'shape'\n",
      "Image_20240622155455613.png 转换失败 name 'class_info' is not defined\n",
      "Image_20240622155459067.json 转换失败 'NoneType' object has no attribute 'shape'\n",
      "Image_20240622155459067.png 转换失败 name 'class_info' is not defined\n",
      "Image_20240622155503938.json 转换失败 'NoneType' object has no attribute 'shape'\n",
      "Image_20240622155503938.png 转换失败 name 'class_info' is not defined\n",
      "Image_20240622155514810.json 转换失败 'NoneType' object has no attribute 'shape'\n",
      "Image_20240622155514810.png 转换失败 name 'class_info' is not defined\n",
      "Image_20240622155518451.json 转换失败 'NoneType' object has no attribute 'shape'\n"
     ]
    },
    {
     "name": "stderr",
     "output_type": "stream",
     "text": [
      " 92%|█████████▏| 277/301 [00:03<00:00, 78.40it/s]"
     ]
    },
    {
     "name": "stdout",
     "output_type": "stream",
     "text": [
      "Image_20240622155518451.png 转换失败 name 'class_info' is not defined\n",
      "Image_20240622155627318.json 转换失败 'NoneType' object has no attribute 'shape'\n",
      "Image_20240622155627318.png 转换失败 name 'class_info' is not defined\n",
      "Image_20240622155634193.json 转换失败 'NoneType' object has no attribute 'shape'\n",
      "Image_20240622155634193.png 转换失败 name 'class_info' is not defined\n",
      "Image_20240622155638304.json 转换失败 'NoneType' object has no attribute 'shape'\n",
      "Image_20240622155638304.png 转换失败 name 'class_info' is not defined\n",
      "Image_20240622155643472.json 转换失败 'NoneType' object has no attribute 'shape'\n",
      "Image_20240622155643472.png 转换失败 name 'class_info' is not defined\n",
      "Image_20240622155648213.json 转换失败 'NoneType' object has no attribute 'shape'\n",
      "Image_20240622155648213.png 转换失败 name 'class_info' is not defined\n",
      "Image_20240622155652944.json 转换失败 'NoneType' object has no attribute 'shape'\n",
      "Image_20240622155652944.png 转换失败 name 'class_info' is not defined\n",
      "Image_20240622155658642.json 转换失败 'NoneType' object has no attribute 'shape'\n",
      "Image_20240622155658642.png 转换失败 name 'class_info' is not defined\n",
      "Image_20240622155702237.json 转换失败 'NoneType' object has no attribute 'shape'\n",
      "Image_20240622155702237.png 转换失败 name 'class_info' is not defined\n",
      "Image_20240622155706238.json 转换失败 'NoneType' object has no attribute 'shape'\n"
     ]
    },
    {
     "name": "stderr",
     "output_type": "stream",
     "text": [
      "100%|██████████| 301/301 [00:03<00:00, 81.24it/s]"
     ]
    },
    {
     "name": "stdout",
     "output_type": "stream",
     "text": [
      "Image_20240622155706238.png 转换失败 name 'class_info' is not defined\n",
      "Image_20240622155713170.json 转换失败 'NoneType' object has no attribute 'shape'\n",
      "Image_20240622155713170.png 转换失败 name 'class_info' is not defined\n",
      "Image_20240622155716771.json 转换失败 'NoneType' object has no attribute 'shape'\n",
      "Image_20240622155716771.png 转换失败 name 'class_info' is not defined\n",
      "Image_20240622155719377.json 转换失败 'NoneType' object has no attribute 'shape'\n",
      "Image_20240622155719377.png 转换失败 name 'class_info' is not defined\n",
      "Image_20240622155722311.json 转换失败 'NoneType' object has no attribute 'shape'\n",
      "Image_20240622155722311.png 转换失败 name 'class_info' is not defined\n",
      "Image_20240622155724819.json 转换失败 'NoneType' object has no attribute 'shape'\n",
      "Image_20240622155724819.png 转换失败 name 'class_info' is not defined\n",
      "Image_20240622155727835.json 转换失败 'NoneType' object has no attribute 'shape'\n",
      "Image_20240622155727835.png 转换失败 name 'class_info' is not defined\n",
      "Image_20240622155730477.json 转换失败 'NoneType' object has no attribute 'shape'\n",
      "Image_20240622155730477.png 转换失败 name 'class_info' is not defined\n",
      "mask.json 转换失败 'NoneType' object has no attribute 'shape'\n",
      "mask.png 转换失败 [Errno 2] No such file or directory: 'F:\\\\work\\\\python\\\\clone\\\\dataset\\\\rebar2d\\\\labelme_jsons\\\\mask.json'\n"
     ]
    },
    {
     "name": "stderr",
     "output_type": "stream",
     "text": [
      "\n"
     ]
    },
    {
     "name": "stdout",
     "output_type": "stream",
     "text": [
      "(3072, 2048)\n"
     ]
    }
   ],
   "execution_count": 5
  },
  {
   "metadata": {
    "ExecuteTime": {
     "end_time": "2024-06-27T07:52:29.956458Z",
     "start_time": "2024-06-27T07:52:29.831723Z"
    }
   },
   "cell_type": "code",
   "source": [
    "img=labelme2mask_single_img(r\"F:\\work\\python\\clone\\dataset\\rebar2d\\images\\Image_20240622152006003.jpg\", r\"F:\\work\\python\\clone\\dataset\\rebar2d\\labelme_jsons\\Image_20240622152006003.json\")\n",
    "cv2.imwrite(r\"/utils/mask/mask.png\", img)\n",
    "img_mask=cv2.imread(r\"/utils/mask/mask.png\")\n",
    "img_mask2=cv2.imread(r\"F:\\work\\dataset\\rebar2D\\train\\TEMP\\Image_20240622152022155.png\")\n",
    "\n",
    "mask = img_mask[:, :, 0]\n",
    "print(mask.shape)\n",
    "cv2.imwrite(r\"/utils/mask/mask.png\", mask)\n",
    "mask2=cv2.imread(r\"/utils/mask/mask.png\")\n",
    "print(mask2.shape)\n",
    "# print(img_mask2.shape)\n",
    "# print(img.shape)"
   ],
   "id": "3071cf151171e091",
   "outputs": [
    {
     "ename": "TypeError",
     "evalue": "'NoneType' object is not subscriptable",
     "output_type": "error",
     "traceback": [
      "\u001B[1;31m---------------------------------------------------------------------------\u001B[0m",
      "\u001B[1;31mTypeError\u001B[0m                                 Traceback (most recent call last)",
      "Cell \u001B[1;32mIn[27], line 6\u001B[0m\n\u001B[0;32m      3\u001B[0m img_mask\u001B[38;5;241m=\u001B[39mcv2\u001B[38;5;241m.\u001B[39mimread(\u001B[38;5;124mr\u001B[39m\u001B[38;5;124m\"\u001B[39m\u001B[38;5;124m/utils/mask/mask.png\u001B[39m\u001B[38;5;124m\"\u001B[39m)\n\u001B[0;32m      4\u001B[0m img_mask2\u001B[38;5;241m=\u001B[39mcv2\u001B[38;5;241m.\u001B[39mimread(\u001B[38;5;124mr\u001B[39m\u001B[38;5;124m\"\u001B[39m\u001B[38;5;124mF:\u001B[39m\u001B[38;5;124m\\\u001B[39m\u001B[38;5;124mwork\u001B[39m\u001B[38;5;124m\\\u001B[39m\u001B[38;5;124mdataset\u001B[39m\u001B[38;5;124m\\\u001B[39m\u001B[38;5;124mrebar2D\u001B[39m\u001B[38;5;124m\\\u001B[39m\u001B[38;5;124mtrain\u001B[39m\u001B[38;5;124m\\\u001B[39m\u001B[38;5;124mTEMP\u001B[39m\u001B[38;5;124m\\\u001B[39m\u001B[38;5;124mImage_20240622152022155.png\u001B[39m\u001B[38;5;124m\"\u001B[39m)\n\u001B[1;32m----> 6\u001B[0m mask \u001B[38;5;241m=\u001B[39m \u001B[43mimg_mask\u001B[49m\u001B[43m[\u001B[49m\u001B[43m:\u001B[49m\u001B[43m,\u001B[49m\u001B[43m \u001B[49m\u001B[43m:\u001B[49m\u001B[43m,\u001B[49m\u001B[43m \u001B[49m\u001B[38;5;241;43m0\u001B[39;49m\u001B[43m]\u001B[49m\n\u001B[0;32m      7\u001B[0m \u001B[38;5;28mprint\u001B[39m(mask\u001B[38;5;241m.\u001B[39mshape)\n\u001B[0;32m      8\u001B[0m cv2\u001B[38;5;241m.\u001B[39mimwrite(\u001B[38;5;124mr\u001B[39m\u001B[38;5;124m\"\u001B[39m\u001B[38;5;124m/utils/mask/mask.png\u001B[39m\u001B[38;5;124m\"\u001B[39m, mask)\n",
      "\u001B[1;31mTypeError\u001B[0m: 'NoneType' object is not subscriptable"
     ]
    }
   ],
   "execution_count": 27
  },
  {
   "metadata": {
    "ExecuteTime": {
     "end_time": "2024-06-27T07:35:00.917307Z",
     "start_time": "2024-06-27T07:35:00.849852Z"
    }
   },
   "cell_type": "code",
   "source": [
    "from PIL import Image\n",
    "import numpy as np\n",
    "import os\n",
    "\n",
    "def get_max_gray_value(image_path):\n",
    "    # 打开图像\n",
    "    img = Image.open(image_path).convert('L')  # 转换为灰度图像\n",
    "\n",
    "    # 转换为numpy数组\n",
    "    img_array = np.array(img)\n",
    "\n",
    "    # 获取最高灰度值\n",
    "    max_gray_value = img_array.max()\n",
    "    print(f\"最高灰度值: {max_gray_value}\")\n",
    "\n",
    "    return img_array, img\n",
    "\n",
    "def replace_gray_value(img_array, old_value, new_value):\n",
    "    # 将灰度值为old_value的像素转换为new_value\n",
    "    img_array[img_array == old_value] = new_value\n",
    "\n",
    "    # 转换为图像\n",
    "    new_img = Image.fromarray(img_array)\n",
    "\n",
    "    return new_img\n",
    "\n",
    "if __name__ == \"__main__\":\n",
    "    # 替换为您的图片路径\n",
    "    # image_path = 'path_to_your_image.png'\n",
    "    image_path = r\"F:\\work\\python\\clone\\utils\\mask\"\n",
    "    output_dir = r\"F:\\work\\dataset\\rebar2D\\train\\TEMP\"\n",
    "    for filename in os.listdir(image_path):\n",
    "        if filename.endswith(\".png\"):\n",
    "            input_path = os.path.join(image_path, filename)\n",
    "            # 获取最高灰度值并返回图像数组\n",
    "            img_array, img = get_max_gray_value(input_path)\n",
    "\n",
    "            # 将灰度值为1的像素转换为255\n",
    "            new_img = replace_gray_value(img_array, 1, 255)\n",
    "\n",
    "            # 保存新图像\n",
    "            new_image_path = os.path.join(output_dir, filename)\n",
    "            new_img.save(new_image_path)\n",
    "            print(f\"新图像已保存到: {new_image_path}\")\n",
    "    # # 获取最高灰度值并返回图像数组\n",
    "    # img_array, img = get_max_gray_value(\"/kaggle/input/rebar2d/train2/mask/Image_20240622152006003_mask.png\")\n",
    "    # \n",
    "    # # 将灰度值为1的像素转换为255\n",
    "    # new_img = replace_gray_value(img_array, 1, 255)\n",
    "    # \n",
    "    # # 保存新图像\n",
    "    # new_image_path = 'path_to_save_new_image.png'\n",
    "    # new_img.save(new_image_path)\n",
    "    # print(f\"新图像已保存到: {new_image_path}\")\n"
   ],
   "id": "a5d8d9905b4a853a",
   "outputs": [
    {
     "name": "stdout",
     "output_type": "stream",
     "text": [
      "最高灰度值: 1\n",
      "新图像已保存到: F:\\work\\dataset\\rebar2D\\train\\TEMP\\mask.png\n"
     ]
    }
   ],
   "execution_count": 25
  },
  {
   "cell_type": "markdown",
   "id": "ab79224d-f751-4d33-bfc9-50be5e4e6a9e",
   "metadata": {},
   "source": [
    "## labelme转mask-批量"
   ]
  },
  {
   "cell_type": "code",
   "id": "1d238f03-945a-4bc8-9c38-75de2c40188f",
   "metadata": {
    "ExecuteTime": {
     "end_time": "2024-06-26T12:57:42.248449Z",
     "start_time": "2024-06-26T12:57:42.244511Z"
    }
   },
   "source": [
    "os.chdir(Dataset_Path)\n",
    "# os.mkdir('mask')\n",
    "os.chdir('images')"
   ],
   "outputs": [],
   "execution_count": 20
  },
  {
   "metadata": {
    "ExecuteTime": {
     "end_time": "2024-06-26T12:58:05.965752Z",
     "start_time": "2024-06-26T12:58:05.958173Z"
    }
   },
   "cell_type": "code",
   "source": "print(tqdm(os.listdir()))",
   "id": "cdc11e060f1d8c6e",
   "outputs": [
    {
     "name": "stderr",
     "output_type": "stream",
     "text": [
      "  0%|          | 0/150 [00:00<?, ?it/s]"
     ]
    },
    {
     "name": "stdout",
     "output_type": "stream",
     "text": [
      "  0%|          | 0/150 [00:00<?, ?it/s]\n"
     ]
    },
    {
     "name": "stderr",
     "output_type": "stream",
     "text": [
      "\n"
     ]
    }
   ],
   "execution_count": 21
  },
  {
   "cell_type": "code",
   "id": "8bc686bf-d781-4c43-827b-2526cf672031",
   "metadata": {
    "ExecuteTime": {
     "end_time": "2024-06-30T02:16:55.015905Z",
     "start_time": "2024-06-30T02:16:55.010875Z"
    }
   },
   "source": [
    "Dataset_Path = r'F:\\work\\python\\clone\\dataset\\rebar2d' # 数据集路径    \n",
    "for img_path in tqdm(os.listdir()):\n",
    "    \n",
    "    try:\n",
    "    \n",
    "        labelme_json_path = os.path.join(Dataset_Path, 'labelme_jsons', '.'.join(img_path.split('.')[:-1])+'.json')\n",
    "\n",
    "        img_mask = labelme2mask_single_img(img_path, labelme_json_path)\n",
    "\n",
    "        mask_path = img_path.split('.')[0] + '.png'\n",
    "\n",
    "        cv2.imwrite(os.path.join('../','mask',mask_path), img_mask)\n",
    "    \n",
    "    except Exception as E:\n",
    "        print(img_path, '转换失败', E)\n",
    "        "
   ],
   "outputs": [
    {
     "name": "stderr",
     "output_type": "stream",
     "text": [
      "0it [00:00, ?it/s]\n"
     ]
    }
   ],
   "execution_count": 6
  },
  {
   "cell_type": "markdown",
   "id": "8a950a7c-1dd4-425e-84ee-b7bcdef69e0a",
   "metadata": {},
   "source": [
    "## 转换之后的mask保存在`masks`文件夹中"
   ]
  },
  {
   "cell_type": "markdown",
   "id": "9edf42ff-9f63-4c50-9dd4-64fea4e86345",
   "metadata": {},
   "source": [
    "## 重命名和删除文件夹"
   ]
  },
  {
   "cell_type": "code",
   "execution_count": 18,
   "id": "0f5169d8-c9f6-41a0-851a-1d88b2fbd1fe",
   "metadata": {},
   "outputs": [],
   "source": [
    "os.chdir('../')\n",
    "shutil.move('images', 'img_dir')\n",
    "shutil.move('mask', 'ann_dir')\n",
    "!rm -rf labelme_jsons\n",
    "os.chdir('../')"
   ]
  },
  {
   "cell_type": "markdown",
   "id": "a7ee53d4-f466-488d-9c44-4933b10f4731",
   "metadata": {},
   "source": [
    "## 得到最终的语义分割数据集"
   ]
  },
  {
   "cell_type": "markdown",
   "id": "4a97b973-7cbd-4407-8aed-7bd54bed4c8f",
   "metadata": {},
   "source": [
    "## 查看数据集目录结构"
   ]
  },
  {
   "cell_type": "code",
   "execution_count": 19,
   "id": "6a712788-3796-474c-af61-cead5276b087",
   "metadata": {},
   "outputs": [
    {
     "name": "stdout",
     "output_type": "stream",
     "text": [
      "📁 Watermelon87_Semantic_Seg_Labelme/\n",
      "├─📁 img_dir/\n",
      "└─📁 ann_dir/\n"
     ]
    }
   ],
   "source": [
    "import seedir as sd\n",
    "sd.seedir('Watermelon87_Semantic_Seg_Labelme', style='emoji', depthlimit=1)"
   ]
  },
  {
   "cell_type": "code",
   "execution_count": null,
   "id": "7fb9a63c-9019-4da6-babc-4c31c246793a",
   "metadata": {},
   "outputs": [],
   "source": []
  }
 ],
 "metadata": {
  "kernelspec": {
   "display_name": "Python 3 (ipykernel)",
   "language": "python",
   "name": "python3"
  },
  "language_info": {
   "codemirror_mode": {
    "name": "ipython",
    "version": 3
   },
   "file_extension": ".py",
   "mimetype": "text/x-python",
   "name": "python",
   "nbconvert_exporter": "python",
   "pygments_lexer": "ipython3",
   "version": "3.7.10"
  }
 },
 "nbformat": 4,
 "nbformat_minor": 5
}
